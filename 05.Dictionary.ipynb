{
 "cells": [
  {
   "cell_type": "markdown",
   "id": "9c1a48fb",
   "metadata": {},
   "source": [
    "# Dictionary\n",
    ": 순서가 정해져있지 않고, key를 통해 value를 얻는다."
   ]
  },
  {
   "cell_type": "code",
   "execution_count": 1,
   "id": "755169b3",
   "metadata": {},
   "outputs": [],
   "source": [
    "# Dictionary 생성하기 {'key값' : 'value값'}\n",
    "dic = {'name' : 'petty', 'phone' : '010-2222-3333', 'birth' : '1231'}"
   ]
  },
  {
   "cell_type": "code",
   "execution_count": 2,
   "id": "5633e25d",
   "metadata": {},
   "outputs": [
    {
     "data": {
      "text/plain": [
       "'petty'"
      ]
     },
     "execution_count": 2,
     "metadata": {},
     "output_type": "execute_result"
    }
   ],
   "source": [
    "dic['name']"
   ]
  },
  {
   "cell_type": "code",
   "execution_count": 3,
   "id": "d421bc7b",
   "metadata": {},
   "outputs": [
    {
     "data": {
      "text/plain": [
       "'1231'"
      ]
     },
     "execution_count": 3,
     "metadata": {},
     "output_type": "execute_result"
    }
   ],
   "source": [
    "dic['birth']"
   ]
  },
  {
   "cell_type": "code",
   "execution_count": 5,
   "id": "353017cf",
   "metadata": {},
   "outputs": [
    {
     "name": "stdout",
     "output_type": "stream",
     "text": [
      "[1, 2, 3]\n",
      "1\n"
     ]
    }
   ],
   "source": [
    "dic1 = {'a' : [1,2,3]}\n",
    "print(dic1['a'])\n",
    "print(dic1['a'][0])"
   ]
  },
  {
   "cell_type": "code",
   "execution_count": 7,
   "id": "fcca5641",
   "metadata": {},
   "outputs": [
    {
     "name": "stdout",
     "output_type": "stream",
     "text": [
      "{'a': [1, 2, 3], 'b': 'bbb', 'name': 'petty'}\n"
     ]
    }
   ],
   "source": [
    "dic1['b'] = 'bbb'\n",
    "dic1['name'] = 'petty'\n",
    "print(dic1)"
   ]
  },
  {
   "cell_type": "code",
   "execution_count": 8,
   "id": "11d3be29",
   "metadata": {},
   "outputs": [
    {
     "data": {
      "text/plain": [
       "{'a': [1, 2, 3], 'name': 'petty'}"
      ]
     },
     "execution_count": 8,
     "metadata": {},
     "output_type": "execute_result"
    }
   ],
   "source": [
    "del dic1['b']\n",
    "dic1"
   ]
  },
  {
   "cell_type": "markdown",
   "id": "8366284c",
   "metadata": {},
   "source": [
    "## Dictionary 관련 함수"
   ]
  },
  {
   "cell_type": "code",
   "execution_count": 9,
   "id": "00288c72",
   "metadata": {},
   "outputs": [
    {
     "data": {
      "text/plain": [
       "dict_keys(['name', 'phone', 'birth'])"
      ]
     },
     "execution_count": 9,
     "metadata": {},
     "output_type": "execute_result"
    }
   ],
   "source": [
    "# key값만 보여주기\n",
    "dic = {'name' : 'petty', 'phone' : '010-2222-3333', 'birth' : '1231'}\n",
    "dic.keys()\n",
    "# dic.keys()[0] 이거는 오류걸림 (list type이 아니기 때문)"
   ]
  },
  {
   "cell_type": "code",
   "execution_count": 10,
   "id": "800565ea",
   "metadata": {},
   "outputs": [
    {
     "name": "stdout",
     "output_type": "stream",
     "text": [
      "name\n",
      "phone\n",
      "birth\n"
     ]
    }
   ],
   "source": [
    "for k in dic.keys():\n",
    "    print(k)"
   ]
  },
  {
   "cell_type": "code",
   "execution_count": 15,
   "id": "b28842a0",
   "metadata": {},
   "outputs": [
    {
     "data": {
      "text/plain": [
       "'name'"
      ]
     },
     "execution_count": 15,
     "metadata": {},
     "output_type": "execute_result"
    }
   ],
   "source": [
    "# dic.keys를 list로 변환\n",
    "dic_list = list(dic.keys())\n",
    "dic_list[0]"
   ]
  },
  {
   "cell_type": "code",
   "execution_count": 16,
   "id": "1ff6117f",
   "metadata": {},
   "outputs": [
    {
     "data": {
      "text/plain": [
       "dict_values(['petty', '010-2222-3333', '1231'])"
      ]
     },
     "execution_count": 16,
     "metadata": {},
     "output_type": "execute_result"
    }
   ],
   "source": [
    "# value값만 보여주기\n",
    "dic.values()"
   ]
  },
  {
   "cell_type": "code",
   "execution_count": 18,
   "id": "7868b890",
   "metadata": {},
   "outputs": [
    {
     "data": {
      "text/plain": [
       "'petty'"
      ]
     },
     "execution_count": 18,
     "metadata": {},
     "output_type": "execute_result"
    }
   ],
   "source": [
    "dic_value = list(dic.values())\n",
    "dic_value[0]"
   ]
  },
  {
   "cell_type": "code",
   "execution_count": 19,
   "id": "6bcdc333",
   "metadata": {},
   "outputs": [
    {
     "data": {
      "text/plain": [
       "dict_items([('name', 'petty'), ('phone', '010-2222-3333'), ('birth', '1231')])"
      ]
     },
     "execution_count": 19,
     "metadata": {},
     "output_type": "execute_result"
    }
   ],
   "source": [
    "# key, value 함께 얻기\n",
    "dic.items()"
   ]
  },
  {
   "cell_type": "code",
   "execution_count": 4,
   "id": "53cefd54",
   "metadata": {},
   "outputs": [
    {
     "name": "stdout",
     "output_type": "stream",
     "text": [
      "name : petty\n",
      "phone : 010-2222-3333\n",
      "birth : 1231\n",
      "3 : 1\n"
     ]
    }
   ],
   "source": [
    "dic = {'name' : 'petty', 'phone' : '010-2222-3333', 'birth' : 1231, 3 : 1}\n",
    "for i in dic.items():\n",
    "    print(i[0], \":\", i[1])"
   ]
  },
  {
   "cell_type": "code",
   "execution_count": 5,
   "id": "7b593b41",
   "metadata": {},
   "outputs": [
    {
     "name": "stdout",
     "output_type": "stream",
     "text": [
      "{'name': 'petty', 'phone': '010-2222-3333', 'birth': 1231, 3: 1}\n",
      "phone : 010-2222-3333\n",
      "birth : 1231\n",
      "3 : 1\n"
     ]
    }
   ],
   "source": [
    "# dic.items를 list로 변환하기\n",
    "# name : petty\n",
    "dic = {'name' : 'petty', 'phone' : '010-2222-3333', 'birth' : 1231, 3 : 1}\n",
    "print(dic)\n",
    "item_list = list(dic.items())\n",
    "print(item_list[1][0], \":\", item_list[1][1])\n",
    "print(item_list[2][0], \":\", item_list[2][1])\n",
    "print(item_list[3][0], \":\", item_list[3][1])"
   ]
  },
  {
   "cell_type": "code",
   "execution_count": 48,
   "id": "d7d74215",
   "metadata": {},
   "outputs": [
    {
     "data": {
      "text/plain": [
       "{}"
      ]
     },
     "execution_count": 48,
     "metadata": {},
     "output_type": "execute_result"
    }
   ],
   "source": [
    "# 삭제\n",
    "dic.clear()\n",
    "dic"
   ]
  },
  {
   "cell_type": "code",
   "execution_count": 50,
   "id": "f8edf1d3",
   "metadata": {},
   "outputs": [
    {
     "name": "stdout",
     "output_type": "stream",
     "text": [
      "True\n",
      "False\n"
     ]
    }
   ],
   "source": [
    "dic = {'name' : 'petty', 'phone' : '010-2222-3333', 'birth' : '1231'}\n",
    "# name이 dic에 있는지 출력 (in도 함수임)\n",
    "print('name' in dic)\n",
    "print('mail' in dic)"
   ]
  },
  {
   "cell_type": "code",
   "execution_count": null,
   "id": "540c6f9b",
   "metadata": {},
   "outputs": [],
   "source": []
  }
 ],
 "metadata": {
  "kernelspec": {
   "display_name": "Python 3",
   "language": "python",
   "name": "python3"
  },
  "language_info": {
   "codemirror_mode": {
    "name": "ipython",
    "version": 3
   },
   "file_extension": ".py",
   "mimetype": "text/x-python",
   "name": "python",
   "nbconvert_exporter": "python",
   "pygments_lexer": "ipython3",
   "version": "3.8.8"
  }
 },
 "nbformat": 4,
 "nbformat_minor": 5
}
