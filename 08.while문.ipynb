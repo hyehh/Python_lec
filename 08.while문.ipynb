{
 "cells": [
  {
   "cell_type": "code",
   "execution_count": 1,
   "id": "760eb395",
   "metadata": {},
   "outputs": [
    {
     "name": "stdout",
     "output_type": "stream",
     "text": [
      "나무를 1번 찍었습니다.\n",
      "나무를 2번 찍었습니다.\n",
      "나무를 3번 찍었습니다.\n",
      "나무를 4번 찍었습니다.\n",
      "나무를 5번 찍었습니다.\n",
      "나무를 6번 찍었습니다.\n",
      "나무를 7번 찍었습니다.\n",
      "나무를 8번 찍었습니다.\n",
      "나무를 9번 찍었습니다.\n",
      "나무를 10번 찍었습니다.\n",
      "나무 넘어 갑니다.\n"
     ]
    }
   ],
   "source": [
    "# python은 while 사용! (크롤링 할 때 데이터 몇 개인지 알 수 없기 때문)\n",
    "# 비교할 때는 선언해주고 시작해야 함\n",
    "treeHit = 0\n",
    "\n",
    "while treeHit < 10:\n",
    "    treeHit += 1\n",
    "    print(\"나무를 %d번 찍었습니다.\"%treeHit)\n",
    "    if treeHit == 10:\n",
    "        print(\"나무 넘어 갑니다.\")"
   ]
  },
  {
   "cell_type": "code",
   "execution_count": 2,
   "id": "33a20d64",
   "metadata": {},
   "outputs": [],
   "source": [
    "# 선택하면 메뉴 만드는 것\n",
    "prompt = \"\"\"\n",
    "    1. 덧셈\n",
    "    2. 뺄셈\n",
    "    3. 곱셈\n",
    "    4. 나눗셈\n",
    "    5. 종료\n",
    "    \n",
    "    숫자를 입력하세요 !\n",
    "\"\"\""
   ]
  },
  {
   "cell_type": "code",
   "execution_count": null,
   "id": "3e9fde2c",
   "metadata": {},
   "outputs": [
    {
     "name": "stdout",
     "output_type": "stream",
     "text": [
      "\n",
      "    1. 덧셈\n",
      "    2. 뺄셈\n",
      "    3. 곱셈\n",
      "    4. 나눗셈\n",
      "    5. 종료\n",
      "    \n",
      "    숫자를 입력하세요 !\n",
      "\n"
     ]
    }
   ],
   "source": [
    "# 5가 들어오면 종료\n",
    "number = 0\n",
    "while number != 5:\n",
    "    print(prompt)\n",
    "    number = int(input())"
   ]
  },
  {
   "cell_type": "code",
   "execution_count": null,
   "id": "76f95f9a",
   "metadata": {},
   "outputs": [],
   "source": [
    "# break문을 사용하여 var가 5인 경우 while문 빠져 나가기\n",
    "# break는 반복을 중단한다는 의미 (조건에 맞아도 더이상 진행 안함)\n",
    "\n",
    "var = 0\n",
    "while var < 10:\n",
    "    print(var)\n",
    "    var += 1\n",
    "    if var == 5:\n",
    "        break"
   ]
  },
  {
   "cell_type": "code",
   "execution_count": null,
   "id": "45582d9b",
   "metadata": {},
   "outputs": [],
   "source": [
    "# continue : 10보다 작은 수 중 5인 경우에만 출력 안하고 나머지 숫자는 출력하기\n",
    "\n",
    "var = 0\n",
    "while var < 10:\n",
    "    var += 1\n",
    "    if var == 5:\n",
    "        # continue는 밑으로 흘러가지 않고 다시 올라가서 while문 실행\n",
    "        continue\n",
    "    # var가 5가 아니면!!!\n",
    "    print(var)"
   ]
  },
  {
   "cell_type": "code",
   "execution_count": null,
   "id": "d47b8873",
   "metadata": {},
   "outputs": [],
   "source": [
    "# continue문을 사용하여 1~10의 숫자 중 홀수만 출력하기\n",
    "var = 0\n",
    "while var < 10:\n",
    "    var += 1\n",
    "    if var % 2 == 0:\n",
    "        continue\n",
    "    print(var)"
   ]
  },
  {
   "cell_type": "code",
   "execution_count": null,
   "id": "3593a1ff",
   "metadata": {},
   "outputs": [],
   "source": [
    "# 점수가 80점 이상이면 우수, 나머지는 노력으로 출력\n",
    "\n",
    "scores = [78, 85, 95, 65]\n",
    "var = 0\n",
    "while var < len(scores):\n",
    "    if scores[var] >= 80:\n",
    "        print(\"우수\")\n",
    "    else:\n",
    "        print(\"노력\")\n",
    "#    print(var)\n",
    "    var += 1"
   ]
  },
  {
   "cell_type": "code",
   "execution_count": null,
   "id": "73f1bcfa",
   "metadata": {},
   "outputs": [],
   "source": [
    "# 점수가 80점 이상이면 우수, 나머지는 노력으로 출력 (python ver.)\n",
    "\n",
    "scores = [78, 85, 95, 65]\n",
    "var = 0\n",
    "while scores:\n",
    "#    pop(var) 넣으면 처음부터 출력\n",
    "#    print(scores.pop(var))\n",
    "#    pop() 아무것도 안넣어주면 마지막부터 출력\n",
    "#    print(scores.pop())\n",
    "    score = scores.pop(var)\n",
    "    if score >= 80:\n",
    "        print(\"우수\")\n",
    "    else:\n",
    "        print(\"노력\")\n",
    "\n",
    "# print(scores)"
   ]
  },
  {
   "cell_type": "code",
   "execution_count": null,
   "id": "e9a5c31f",
   "metadata": {},
   "outputs": [],
   "source": [
    "# 평균 구하기\n",
    "\n",
    "scores = [78, 85, 95, 65]\n",
    "\n",
    "list_length = len(scores)\n",
    "total = 0\n",
    "\n",
    "while scores:\n",
    "    total += scores.pop()\n",
    "    \n",
    "print(total / list_length)"
   ]
  },
  {
   "cell_type": "code",
   "execution_count": null,
   "id": "055b1236",
   "metadata": {},
   "outputs": [],
   "source": [
    "import numpy as np"
   ]
  },
  {
   "cell_type": "code",
   "execution_count": null,
   "id": "2f51eaac",
   "metadata": {},
   "outputs": [],
   "source": [
    "# 평균 구하기 (python ver.)\n",
    "\n",
    "scores = [78, 85, 95, 65]\n",
    "\n",
    "np.mean(scores)"
   ]
  },
  {
   "cell_type": "code",
   "execution_count": null,
   "id": "031fe9a4",
   "metadata": {},
   "outputs": [],
   "source": [
    "# 표준편차 구하기 : 평균과 각 data의 차이의 제곱한 것의 합의 제곱근을 구한 것의 평균\n",
    "\n",
    "scores = [78, 85, 95, 65]\n",
    "\n",
    "# 평균 구하기\n",
    "total = 0\n",
    "var = 0\n",
    "\n",
    "while var < len(scores):\n",
    "    total += scores[var]\n",
    "    var += 1\n",
    "\n",
    "avg = total / len(scores)\n",
    "print(avg)\n",
    "\n",
    "# 각 데이터와 평균의 차이의 제곱의 합의 평균을 구하기\n",
    "total = 0\n",
    "var = 0\n",
    "\n",
    "while var < len(scores):\n",
    "    total += (scores[var] - avg) ** 2\n",
    "    var += 1\n",
    "    \n",
    "avg = total / len(scores)\n",
    "print(avg)\n",
    "\n",
    "# 위의 계산값에 제곱근을 구하기\n",
    "import math\n",
    "math.sqrt(avg)"
   ]
  },
  {
   "cell_type": "code",
   "execution_count": null,
   "id": "06dd3900",
   "metadata": {},
   "outputs": [],
   "source": [
    "# 표준편차 구하기 : 평균과 각 data의 차이의 제곱한 것의 합의 제곱근을 구한 것의 평균 (python ver.)\n",
    "\n",
    "scores = [78, 85, 95, 65]\n",
    "np.std(scores)"
   ]
  },
  {
   "cell_type": "code",
   "execution_count": null,
   "id": "18adb52e",
   "metadata": {},
   "outputs": [],
   "source": []
  },
  {
   "cell_type": "code",
   "execution_count": null,
   "id": "3dd82e67",
   "metadata": {},
   "outputs": [],
   "source": []
  },
  {
   "cell_type": "code",
   "execution_count": null,
   "id": "d6c1b497",
   "metadata": {},
   "outputs": [],
   "source": []
  },
  {
   "cell_type": "code",
   "execution_count": null,
   "id": "ae60cf95",
   "metadata": {},
   "outputs": [],
   "source": []
  },
  {
   "cell_type": "code",
   "execution_count": null,
   "id": "a0c2df71",
   "metadata": {},
   "outputs": [],
   "source": []
  },
  {
   "cell_type": "code",
   "execution_count": null,
   "id": "156e5a7e",
   "metadata": {},
   "outputs": [],
   "source": []
  },
  {
   "cell_type": "code",
   "execution_count": null,
   "id": "7648fd44",
   "metadata": {},
   "outputs": [],
   "source": []
  }
 ],
 "metadata": {
  "kernelspec": {
   "display_name": "Python 3",
   "language": "python",
   "name": "python3"
  },
  "language_info": {
   "codemirror_mode": {
    "name": "ipython",
    "version": 3
   },
   "file_extension": ".py",
   "mimetype": "text/x-python",
   "name": "python",
   "nbconvert_exporter": "python",
   "pygments_lexer": "ipython3",
   "version": "3.8.8"
  }
 },
 "nbformat": 4,
 "nbformat_minor": 5
}
