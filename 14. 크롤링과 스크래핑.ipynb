{
 "cells": [
  {
   "cell_type": "markdown",
   "id": "f957e440",
   "metadata": {},
   "source": [
    "# 크롤링 \n",
    ": 전세계를 돌면서 정보를 축적 (주기적으로 돌림)\n",
    "# 스크래핑 \n",
    ": 스크랩하는 것이라고 생각 (필요한 것만 따로 정리)"
   ]
  },
  {
   "cell_type": "markdown",
   "id": "1329ebde",
   "metadata": {},
   "source": [
    "## 데이터 다운로드 하기\n",
    ": 인터넷에서 지정된 파일을 내 PC에 저장하기"
   ]
  },
  {
   "cell_type": "code",
   "execution_count": 1,
   "id": "dc9ee78b",
   "metadata": {},
   "outputs": [
    {
     "name": "stdout",
     "output_type": "stream",
     "text": [
      "저장되었습니다.\n"
     ]
    }
   ],
   "source": [
    "# 필요한 모듈 가져오기\n",
    "# library\n",
    "# 요청하는 것\n",
    "import urllib.request\n",
    "\n",
    "# URL(어디서 가져올거니)과 저장경로(어디에 저장할거니) 지정\n",
    "url = \"http://uta.pw/shodou/img/28/214.png\"\n",
    "savename = \"./Data/test.png\"\n",
    "\n",
    "# 다운로드 하기 (이제 실행) : 이미지 뿐만 아니라 동영상도 이런식으로 가져올 수 있음\n",
    "urllib.request.urlretrieve(url, savename)\n",
    "print(\"저장되었습니다.\")"
   ]
  },
  {
   "cell_type": "code",
   "execution_count": 2,
   "id": "87085843",
   "metadata": {},
   "outputs": [
    {
     "name": "stdout",
     "output_type": "stream",
     "text": [
      "저장 되었습니다.\n"
     ]
    }
   ],
   "source": [
    "# 필요한 모듈 가져오기\n",
    "# library\n",
    "# 요청하는 것\n",
    "import urllib.request\n",
    "\n",
    "# URL(어디서 가져올거니)과 저장경로(어디에 저장할거니) 지정\n",
    "url = \"http://uta.pw/shodou/img/28/214.png\"\n",
    "savename = \"./Data/test1.png\"\n",
    "\n",
    "# 다운로드 하기 (또 다른 ver.)\n",
    "# 파일을 바로 다운로드 하지 않고 메모리로 가져와서 파일로 저장할 것임\n",
    "mem = urllib.request.urlopen(url).read()\n",
    "\n",
    "# 파일로 저장하기 (그림은 binary file : w가 아닌 wb로 작성)\n",
    "with open(savename, \"wb\") as f:\n",
    "    f.write(mem)\n",
    "print(\"저장 되었습니다.\")"
   ]
  },
  {
   "cell_type": "markdown",
   "id": "77394267",
   "metadata": {},
   "source": [
    "# BeautifulSoup로 Scraping하기\n",
    ": 홈페이지에 있는 내용들 가져와서 태그 형태로 검색하기 쉬워서 많이 사용   \n",
    ": 간단하게 HTML과 XML에서 정보를 추출할 때 사용"
   ]
  },
  {
   "cell_type": "code",
   "execution_count": 3,
   "id": "8c3e2fda",
   "metadata": {},
   "outputs": [
    {
     "name": "stdout",
     "output_type": "stream",
     "text": [
      "Requirement already satisfied: beautifulsoup4 in /Users/parksunghun/opt/anaconda3/lib/python3.8/site-packages (4.9.3)\r\n",
      "Requirement already satisfied: soupsieve>1.2 in /Users/parksunghun/opt/anaconda3/lib/python3.8/site-packages (from beautifulsoup4) (2.2.1)\r\n"
     ]
    }
   ],
   "source": [
    "# 아나콘다에 자동으로 설치되어있지 않기에 수동으로 설치해줘야 함\n",
    "!pip install beautifulsoup4"
   ]
  },
  {
   "cell_type": "code",
   "execution_count": 4,
   "id": "e80d5731",
   "metadata": {},
   "outputs": [
    {
     "name": "stdout",
     "output_type": "stream",
     "text": [
      "01.Preview.ipynb                    09.for문.ipynb\r\n",
      "02.변수와 자료형.ipynb              10.함수.ipynb\r\n",
      "03.리스트.ipynb                     11.시뮬레이션.ipynb\r\n",
      "04.튜플.ipynb                       12.파일 입출력.ipynb\r\n",
      "05.Dictionary.ipynb                 13.분석 모듈 Preview.ipynb\r\n",
      "06.집합.ipynb                       14. 크롤링과 스크래핑.ipynb\r\n",
      "07.if문.ipynb                       \u001b[34mData\u001b[m\u001b[m\r\n",
      "08.while문.ipynb                    README.md\r\n"
     ]
    }
   ],
   "source": [
    "# ! 쓰면 외장 명령어 사용 가능!\n",
    "!ls"
   ]
  },
  {
   "cell_type": "code",
   "execution_count": 5,
   "id": "ba3c637a",
   "metadata": {},
   "outputs": [
    {
     "name": "stdout",
     "output_type": "stream",
     "text": [
      "\n",
      "<html>\n",
      "<body>\n",
      "<h1>Header</h1>\n",
      "<p> Line 1을 서술 </p>\n",
      "</body>\n",
      "</html>\n",
      "\n"
     ]
    }
   ],
   "source": [
    "# 기본 사용법\n",
    "from bs4 import BeautifulSoup\n",
    "\n",
    "# HTML Sample (데이터를 가져왔다는 전제하에서 사용 : 이 부분은 연습해보는 것)\n",
    "html1 = \"\"\"\n",
    "        <html>\n",
    "            <body>\n",
    "                <h1>Header</h1>\n",
    "                <p> Line 1을 서술 </p>\n",
    "            </body>\n",
    "        </html>\n",
    "\"\"\"\n",
    "\n",
    "# HTML 분석 (soup 으로 html1 을 파싱하는 것)\n",
    "# BeautifulSoup이 없으면 한 줄 한 줄 어제 배운 것처럼 한 줄씩 읽어와야 함\n",
    "soup = BeautifulSoup(html1, 'html.parser')\n",
    "print(soup)"
   ]
  },
  {
   "cell_type": "code",
   "execution_count": 6,
   "id": "8cb15d81",
   "metadata": {},
   "outputs": [
    {
     "name": "stdout",
     "output_type": "stream",
     "text": [
      "<h1>Header</h1>\n",
      "<p> Line 1을 서술 </p>\n",
      "---------\n",
      "h1= Header\n",
      "h1= Header\n",
      "p1=  Line 1을 서술 \n",
      "p1=  Line 1을 서술 \n"
     ]
    }
   ],
   "source": [
    "# 원하는 부분 추출하기\n",
    "# 태그 이용해 Header라는 글자 가져오기\n",
    "h1 = soup.html.body.h1\n",
    "p1 = soup.html.body.p\n",
    "print(h1)\n",
    "print(p1)\n",
    "print(\"---------\")\n",
    "\n",
    "# Text만 출력\n",
    "# h1.string : h1중에 string값만 가져오겠다!\n",
    "print(\"h1=\", h1.string)\n",
    "print(\"h1=\", h1.text)\n",
    "print(\"p1=\", p1.string)\n",
    "print(\"p1=\", p1.text)"
   ]
  },
  {
   "cell_type": "code",
   "execution_count": 7,
   "id": "64640f25",
   "metadata": {},
   "outputs": [
    {
     "name": "stdout",
     "output_type": "stream",
     "text": [
      "<h1 id=\"title\">Header</h1>\n",
      "<p id=\"body\"> Line 1을 서술 </p>\n",
      "---------\n",
      "title = Header\n",
      "body =  Line 1을 서술 \n"
     ]
    }
   ],
   "source": [
    "# id로 요소를 추출하기\n",
    "from bs4 import BeautifulSoup\n",
    "\n",
    "# HTML Sample\n",
    "html2 = \"\"\"\n",
    "        <html>\n",
    "            <body>\n",
    "                <h1 id=\"title\">Header</h1>\n",
    "                <p id=\"body\"> Line 1을 서술 </p>\n",
    "            </body>\n",
    "        </html>\n",
    "\"\"\"\n",
    "\n",
    "# HTML 분석\n",
    "soup = BeautifulSoup(html2, 'html.parser')\n",
    "\n",
    "# 원하는 부분 추출하기\n",
    "# soup.find(id = 'title') : id가 title인 것을 찾아와리\n",
    "title = soup.find(id = 'title')\n",
    "body = soup.find(id = 'body')\n",
    "print(title)\n",
    "print(body)\n",
    "print(\"---------\")\n",
    "\n",
    "# text만 출력\n",
    "print(\"title =\", title.string)\n",
    "print(\"body =\", body.string)"
   ]
  },
  {
   "cell_type": "code",
   "execution_count": 8,
   "id": "eb47bc4b",
   "metadata": {},
   "outputs": [
    {
     "data": {
      "text/plain": [
       "<a href=\"http://www.naver.com\">naver</a>"
      ]
     },
     "execution_count": 8,
     "metadata": {},
     "output_type": "execute_result"
    }
   ],
   "source": [
    "# 여러 개의 요소 추출하기\n",
    "from bs4 import BeautifulSoup\n",
    "\n",
    "# HTML Sample\n",
    "html3 = \"\"\"\n",
    "        <html>\n",
    "            <body>\n",
    "                <ul>\n",
    "                    <li><a href=\"http://www.naver.com\">naver</a></li>\n",
    "                    <li><a href=\"http://www.daum.net\">daum</a></li>\n",
    "                </ul>\n",
    "            </body>\n",
    "        </html>\n",
    "\"\"\"\n",
    "\n",
    "# HTML 분석\n",
    "soup = BeautifulSoup(html3, 'html.parser')\n",
    "\n",
    "# a태그에 있는 건 다 가져오겠다!\n",
    "# find는 제일 처음에 있는 것만 가져옴!\n",
    "soup.find('a')"
   ]
  },
  {
   "cell_type": "code",
   "execution_count": 9,
   "id": "a5414820",
   "metadata": {},
   "outputs": [
    {
     "data": {
      "text/plain": [
       "[<a href=\"http://www.naver.com\">naver</a>,\n",
       " <a href=\"http://www.daum.net\">daum</a>]"
      ]
     },
     "execution_count": 9,
     "metadata": {},
     "output_type": "execute_result"
    }
   ],
   "source": [
    "# find_all은 다 가져옴! -> list로 가져옴\n",
    "soup.find_all('a')"
   ]
  },
  {
   "cell_type": "code",
   "execution_count": 15,
   "id": "04733d26",
   "metadata": {},
   "outputs": [
    {
     "name": "stdout",
     "output_type": "stream",
     "text": [
      "naver\n",
      "daum\n",
      "---------\n",
      "http://www.naver.com\n",
      "http://www.daum.net\n",
      "---------\n",
      "naver >>> http://www.naver.com\n",
      "daum >>> http://www.daum.net\n"
     ]
    }
   ],
   "source": [
    "links = soup.find_all('a')\n",
    "\n",
    "# 링크 목록 출력\n",
    "for link in links:\n",
    "    # 태그 다 지우고 순수한 글자값만 가져옴\n",
    "    print(link.string)\n",
    "\n",
    "print(\"---------\")\n",
    "\n",
    "# 이름 필요 없고 링크만 필요한 경우\n",
    "for link in links:\n",
    "    # 아나콘다는 웹이기 때문에 클릭하면 바로 사이트로 이동함!\n",
    "    print(link.attrs['href'])\n",
    "    \n",
    "print(\"---------\")\n",
    "\n",
    "# 정리\n",
    "for link in links:\n",
    "    href = link.attrs['href']\n",
    "    text = link.string\n",
    "    print(text, \">>>\", href)"
   ]
  },
  {
   "cell_type": "code",
   "execution_count": 24,
   "id": "a1333884",
   "metadata": {
    "scrolled": true
   },
   "outputs": [
    {
     "name": "stdout",
     "output_type": "stream",
     "text": [
      "기상청 육상 중기예보\n",
      "○ (강수) 16일(금) 오후에는 소나기가 내리는 곳이 있겠고, 19일(월) 오후에는 비가 내리겠습니다.<br />○ (기온) 이번 예보기간 아침최저기온은 23~26도, 낮최고기온은 29~34도로 어제(12일, 아침최저기온 20~24도, 낮최고기온 30~33도)와 비슷하거나 조금 높겠습니다.<br />○ (해상) 서해중부해상의 물결은 0.5~2.0m로 일겠습니다.<br />○ (주말전망) 17일(토)~18일(일)은 구름많겠고, 아침 기온은 23~24도, 낮 기온은 29~33도가 되겠습니다<br /><br />* 이번 예보기간 동안 내륙에는 낮최고기온이 33도 내외, 아침최저기온이 25도 내외로 오르는 곳이 많아 매우 무덥겠으니, 건강관리에 각별히 유의하기 바랍니다.<br />* 또한, 북태평양고기압 위치에 따른 강수 변동성이 크겠으니, 앞으로 발표되는 기상정보를 참고하기 바랍니다.\n"
     ]
    },
    {
     "data": {
      "text/plain": [
       "bs4.element.CData"
      ]
     },
     "execution_count": 24,
     "metadata": {},
     "output_type": "execute_result"
    }
   ],
   "source": [
    "# 기상청 자료 활용하기 (최근 날씨 데이터 가져오기_\n",
    "# xml도 BeautifulSoup을 통해 가능! 아래 사이트 xml임\n",
    "# http://www.weather.go.kr/weather/forecast/mid-term-rss3.jsp?stnId=109\n",
    "\n",
    "from bs4 import BeautifulSoup\n",
    "import urllib.request as req\n",
    "\n",
    "url = \"http://www.weather.go.kr/weather/forecast/mid-term-rss3.jsp?stnId=109\"\n",
    "\n",
    "# 데이터 가져오기\n",
    "res = req.urlopen(url)\n",
    "\n",
    "# xml이지만 html.parser 사용 가능!\n",
    "soup = BeautifulSoup(res, \"html.parser\")\n",
    "# print(soup)\n",
    "\n",
    "# <wf> : 요약정보 데이터 와 <title> 추출하기\n",
    "# 바로 find 뒤에 string 해도 괜찮음!\n",
    "title = soup.find('title').string\n",
    "print(title)\n",
    "wf = soup.find('wf').string\n",
    "print(wf)\n",
    "# bs4.element.CData : Character\n",
    "type(wf)"
   ]
  },
  {
   "cell_type": "code",
   "execution_count": 31,
   "id": "ec245234",
   "metadata": {},
   "outputs": [
    {
     "name": "stdout",
     "output_type": "stream",
     "text": [
      "기상청 육상 중기예보\n",
      "\n",
      "○ (강수) 16일(금) 오후에는 소나기가 내리는 곳이 있겠고, 19일(월) 오후에는 비가 내리겠습니다.\n",
      "○ (기온) 이번 예보기간 아침최저기온은 23~26도, 낮최고기온은 29~34도로 어제(12일, 아침최저기온 20~24도, 낮최고기온 30~33도)와 비슷하거나 조금 높겠습니다.\n",
      "○ (해상) 서해중부해상의 물결은 0.5~2.0m로 일겠습니다.\n",
      "○ (주말전망) 17일(토)~18일(일)은 구름많겠고, 아침 기온은 23~24도, 낮 기온은 29~33도가 되겠습니다\n",
      "\n",
      "* 이번 예보기간 동안 내륙에는 낮최고기온이 33도 내외, 아침최저기온이 25도 내외로 오르는 곳이 많아 매우 무덥겠으니, 건강관리에 각별히 유의하기 바랍니다.\n",
      "* 또한, 북태평양고기압 위치에 따른 강수 변동성이 크겠으니, 앞으로 발표되는 기상정보를 참고하기 바랍니다.\n"
     ]
    }
   ],
   "source": [
    "title = soup.find('title').string\n",
    "wf = soup.find('wf').string\n",
    "\n",
    "print(title)\n",
    "print()\n",
    "\n",
    "# 고객은 정리된 데이터를 원하기 때문에 꼭 정리시켜주기!\n",
    "# split 쓰려면 string 값이 기본 전제여야 함!\n",
    "for i in wf.split('<br />'):\n",
    "    print(i)"
   ]
  },
  {
   "cell_type": "code",
   "execution_count": 32,
   "id": "1de25bc6",
   "metadata": {},
   "outputs": [
    {
     "data": {
      "text/plain": [
       "list"
      ]
     },
     "execution_count": 32,
     "metadata": {},
     "output_type": "execute_result"
    }
   ],
   "source": [
    "type(wf.split('<br />'))"
   ]
  },
  {
   "cell_type": "code",
   "execution_count": 37,
   "id": "e175702f",
   "metadata": {},
   "outputs": [
    {
     "data": {
      "text/plain": [
       "'○ (기온) 이번 예보기간 아침최저기온은 23~26도, 낮최고기온은 29~34도로 어제(12일, 아침최저기온 20~24도, 낮최고기온 30~33도)와 비슷하거나 조금 높겠습니다.'"
      ]
     },
     "execution_count": 37,
     "metadata": {},
     "output_type": "execute_result"
    }
   ],
   "source": [
    "wf.split('<br />')[1]"
   ]
  },
  {
   "cell_type": "code",
   "execution_count": 45,
   "id": "da1e6c0d",
   "metadata": {},
   "outputs": [
    {
     "name": "stdout",
     "output_type": "stream",
     "text": [
      "----------------------------------------------------------------------------------------------------\n",
      "○ (강수) 16일(금) 오후에는 소나기가 내리는 곳이 있겠고, 19일(월) 오후에는 비가 내리겠습니다. ○ (기온) 이번 예보기간 아침최저기온은 23~26도, 낮최고기온은 29~34도로 어제(12일, 아침최저기온 20~24도, 낮최고기온 30~33도)와 비슷하거나 조금 높겠습니다. ○ (해상) 서해중부해상의 물결은 0.5~2.0m로 일겠습니다. ○ (주말전망) 17일(토)~18일(일)은 구름많겠고, 아침 기온은 23~24도, 낮 기온은 29~33도가 되겠습니다  * 이번 예보기간 동안 내륙에는 낮최고기온이 33도 내외, 아침최저기온이 25도 내외로 오르는 곳이 많아 매우 무덥겠으니, 건강관리에 각별히 유의하기 바랍니다. * 또한, 북태평양고기압 위치에 따른 강수 변동성이 크겠으니, 앞으로 발표되는 기상정보를 참고하기 바랍니다.\n",
      "<class 'str'>\n"
     ]
    },
    {
     "data": {
      "text/plain": [
       "['',\n",
       " ' (강수) 16일(금) 오후에는 소나기가 내리는 곳이 있겠고, 19일(월) 오후에는 비가 내리겠습니다. ',\n",
       " ' (기온) 이번 예보기간 아침최저기온은 23~26도, 낮최고기온은 29~34도로 어제(12일, 아침최저기온 20~24도, 낮최고기온 30~33도)와 비슷하거나 조금 높겠습니다. ',\n",
       " ' (해상) 서해중부해상의 물결은 0.5~2.0m로 일겠습니다. ',\n",
       " ' (주말전망) 17일(토)~18일(일)은 구름많겠고, 아침 기온은 23~24도, 낮 기온은 29~33도가 되겠습니다  * 이번 예보기간 동안 내륙에는 낮최고기온이 33도 내외, 아침최저기온이 25도 내외로 오르는 곳이 많아 매우 무덥겠으니, 건강관리에 각별히 유의하기 바랍니다. * 또한, 북태평양고기압 위치에 따른 강수 변동성이 크겠으니, 앞으로 발표되는 기상정보를 참고하기 바랍니다.']"
      ]
     },
     "execution_count": 45,
     "metadata": {},
     "output_type": "execute_result"
    }
   ],
   "source": [
    "# 데이터 정리하기 (선생님 ver.) : 여기서는 적합한 예시가 아니지만, 다른 곳에서 이런 방법 사용할 일이 있을 것!\n",
    "title = soup.find('title').string\n",
    "wf = soup.find('wf').string\n",
    "\n",
    "list_wfs = list(wf)\n",
    "except_char = ['<','b','r','/',\">\"]\n",
    "result = \"\"\n",
    "\n",
    "for lwf in list_wfs:\n",
    "    # print(lwf)\n",
    "    if lwf not in except_char:\n",
    "        result += lwf\n",
    "    \n",
    "print('-'*100)\n",
    "print(result)\n",
    "print(type(result))\n",
    "result.split('○')"
   ]
  },
  {
   "cell_type": "markdown",
   "id": "caadfecb",
   "metadata": {},
   "source": [
    "# css 선택자 사용하기\n",
    "\n",
    "soup.select_one() : css선택자로 요소 하나를 추출.\n",
    "soup.select() : css선택자로 요소 여러 개를 리스트로 추출."
   ]
  },
  {
   "cell_type": "code",
   "execution_count": 134,
   "id": "a00cd177",
   "metadata": {},
   "outputs": [
    {
     "name": "stdout",
     "output_type": "stream",
     "text": [
      "위키 북스\n",
      "[<li>유니티 게임 이펙트 입문서</li>, <li>스위프트 시작하는 아이폰 앱 개발 교과서</li>, <li>모던 웹사이트 디자인의 정석</li>]\n",
      "유니티 게임 이펙트 입문서\n",
      "스위프트 시작하는 아이폰 앱 개발 교과서\n",
      "모던 웹사이트 디자인의 정석\n"
     ]
    }
   ],
   "source": [
    "from bs4 import BeautifulSoup\n",
    "\n",
    "html4 = \"\"\"\n",
    "        <html>\n",
    "            <body>\n",
    "                <div id = \"meigen\">\n",
    "                    <h1>위키 북스</h1>\n",
    "                    <ul class = \"items\">\n",
    "                        <li>유니티 게임 이펙트 입문서</li>\n",
    "                        <li>스위프트 시작하는 아이폰 앱 개발 교과서</li>\n",
    "                        <li>모던 웹사이트 디자인의 정석</li>\n",
    "                    </ul>\n",
    "                </div>\n",
    "            </body>\n",
    "        </html>\n",
    "\"\"\"\n",
    "\n",
    "soup = BeautifulSoup(html4, \"html.parser\")\n",
    "\n",
    "# soup.html.body.h1 로 쓸 수 있지만, 복잡한 사이트는 저 방법으로 불가하기 때문에 새로운 방법 제시!\n",
    "# 필요한 부분 css로 추출하기\n",
    "# 타이틀 부분 추출하기\n",
    "# id는 #으로 시작\n",
    "# 밑에 있는 클라스를 찾을 때는 .으로 시작\n",
    "# > 의 의미는 내 밑에 바로 있는 자손 중에 h1\n",
    "#  (space) 사용 시 내 밑에 있는 모든 것 찾음 (후손)\n",
    "# div 입장에서는 h1과 ul은 자손이고 li는 후손\n",
    "h1 = soup.select_one(\"div#meigen > h1\").string\n",
    "print(h1)\n",
    "\n",
    "# 목록 부분 추출하기\n",
    "# ul이 여러 개 있을 경우 ul.items 사용\n",
    "li_lists = soup.select(\"div#meigen > ul.items > li\")\n",
    "li_lists_1 = soup.select(\"div#meigen li\") # 사용 가능 (후손은 한 칸 띄고 사용 가능하기에!)\n",
    "li_lists_2 = soup.select(\"div#meigen > li\") # 사용 불가 (후손은 > 사용 안 함!)\n",
    "\n",
    "print(li_lists)\n",
    "\n",
    "for li in li_lists:\n",
    "    print(li.string)"
   ]
  },
  {
   "cell_type": "code",
   "execution_count": 53,
   "id": "62766345",
   "metadata": {},
   "outputs": [],
   "source": [
    "# 네이버 금융에서 환율 정보 추출하기\n",
    "# https://finance.naver.com/marketindex/\n",
    "# #exchangeList > li.on > a.head.usd > div > span.value"
   ]
  },
  {
   "cell_type": "code",
   "execution_count": 61,
   "id": "db81023f",
   "metadata": {},
   "outputs": [
    {
     "name": "stdout",
     "output_type": "stream",
     "text": [
      "usd /krw : 1,143.50\n",
      "1,143.50\n"
     ]
    }
   ],
   "source": [
    "# 미국 환율 가져오기\n",
    "from bs4 import BeautifulSoup\n",
    "import urllib.request as req\n",
    "\n",
    "# HTML\n",
    "url = \"https://finance.naver.com/marketindex/\"\n",
    "res = req.urlopen(url)\n",
    "\n",
    "# HTML 분석\n",
    "soup = BeautifulSoup(res, \"html.parser\")\n",
    "# print(soup)\n",
    "\n",
    "# 데이터 추출하기\n",
    "# class니까 .\n",
    "price = soup.select_one(\"span.value\").string\n",
    "print(\"usd /krw :\", price)\n",
    "\n",
    "# price = soup.select_one(\"span.value\").string 이 데이터가 무지 많을 경우\n",
    "# select_one 은 제일 위에 꺼 하나만 가져옴!\n",
    "price = soup.select_one(\"div.head_info > span.value\").string\n",
    "print(price)"
   ]
  },
  {
   "cell_type": "code",
   "execution_count": 75,
   "id": "e6ef3ce0",
   "metadata": {},
   "outputs": [
    {
     "name": "stdout",
     "output_type": "stream",
     "text": [
      "미국 : 1,144.10\n",
      "일본 : 1,036.04\n",
      "유럽연합 : 1,357.36\n",
      "중국 : 176.83\n"
     ]
    }
   ],
   "source": [
    "# 미국, 일본, 유럽연합, 중국의 환율\n",
    "# 미국 : #exchangeList > li.on > a.head.usd > div > span.value\n",
    "# 일본 : #exchangeList > li.on > a.head.jpy > div > span.value\n",
    "# 유럽연합 : #exchangeList > li.on > a.head.eur > div > span.value\n",
    "# 중국 : #exchangeList > li.on > a.head.cny > div > span.value\n",
    "from bs4 import BeautifulSoup\n",
    "import urllib.request as req\n",
    "\n",
    "# HTML\n",
    "url = \"https://finance.naver.com/marketindex/\"\n",
    "res = req.urlopen(url)\n",
    "\n",
    "# HTML 분석\n",
    "soup = BeautifulSoup(res, \"html.parser\")\n",
    "\n",
    "# 데이터 추출하기\n",
    "# pricelist = soup.select(\"div.head_info > span.value\") 이것도 가능\n",
    "pricelist = soup.select(\"span.value\")\n",
    "\n",
    "# for price in pricelist:\n",
    "#     print(price.string)\n",
    "\n",
    "usd_price = pricelist[0].string\n",
    "jpy_price = pricelist[1].string\n",
    "eur_price = pricelist[2].string\n",
    "cny_price = pricelist[3].string\n",
    "print('미국 :', usd_price)\n",
    "print('일본 :', jpy_price)\n",
    "print('유럽연합 :', eur_price)\n",
    "print('중국 :', cny_price)"
   ]
  },
  {
   "cell_type": "code",
   "execution_count": 123,
   "id": "2aa55d62",
   "metadata": {
    "scrolled": true
   },
   "outputs": [
    {
     "name": "stdout",
     "output_type": "stream",
     "text": [
      "하늘과 바람과 별과 시 >>> https://ko.wikisource.org//wiki/%ED%95%98%EB%8A%98%EA%B3%BC_%EB%B0%94%EB%9E%8C%EA%B3%BC_%EB%B3%84%EA%B3%BC_%EC%8B%9C\n",
      "쉽게 씌어진 시 >>> https://ko.wikisource.org//wiki/%EC%89%BD%EA%B2%8C_%EC%94%8C%EC%96%B4%EC%A7%84_%EC%8B%9C\n",
      "서시 >>> https://ko.wikisource.org//wiki/%ED%95%98%EB%8A%98%EA%B3%BC_%EB%B0%94%EB%9E%8C%EA%B3%BC_%EB%B3%84%EA%B3%BC_%EC%8B%9C/%EC%84%9C%EC%8B%9C\n",
      "자화상 >>> https://ko.wikisource.org//wiki/%ED%95%98%EB%8A%98%EA%B3%BC_%EB%B0%94%EB%9E%8C%EA%B3%BC_%EB%B3%84%EA%B3%BC_%EC%8B%9C/%EC%9E%90%ED%99%94%EC%83%81\n",
      "소년 >>> https://ko.wikisource.org//wiki/%ED%95%98%EB%8A%98%EA%B3%BC_%EB%B0%94%EB%9E%8C%EA%B3%BC_%EB%B3%84%EA%B3%BC_%EC%8B%9C/%EC%86%8C%EB%85%84\n",
      "눈 오는 지도 >>> https://ko.wikisource.org//wiki/%ED%95%98%EB%8A%98%EA%B3%BC_%EB%B0%94%EB%9E%8C%EA%B3%BC_%EB%B3%84%EA%B3%BC_%EC%8B%9C/%EB%88%88_%EC%98%A4%EB%8A%94_%EC%A7%80%EB%8F%84\n",
      "돌아와 보는 밤 >>> https://ko.wikisource.org//wiki/%ED%95%98%EB%8A%98%EA%B3%BC_%EB%B0%94%EB%9E%8C%EA%B3%BC_%EB%B3%84%EA%B3%BC_%EC%8B%9C/%EB%8F%8C%EC%95%84%EC%99%80_%EB%B3%B4%EB%8A%94_%EB%B0%A4\n",
      "병원 >>> https://ko.wikisource.org//wiki/%ED%95%98%EB%8A%98%EA%B3%BC_%EB%B0%94%EB%9E%8C%EA%B3%BC_%EB%B3%84%EA%B3%BC_%EC%8B%9C/%EB%B3%91%EC%9B%90\n",
      "새로운 길 >>> https://ko.wikisource.org//wiki/%ED%95%98%EB%8A%98%EA%B3%BC_%EB%B0%94%EB%9E%8C%EA%B3%BC_%EB%B3%84%EA%B3%BC_%EC%8B%9C/%EC%83%88%EB%A1%9C%EC%9A%B4_%EA%B8%B8\n",
      "간판 없는 거리 >>> https://ko.wikisource.org//wiki/%ED%95%98%EB%8A%98%EA%B3%BC_%EB%B0%94%EB%9E%8C%EA%B3%BC_%EB%B3%84%EA%B3%BC_%EC%8B%9C/%EA%B0%84%ED%8C%90_%EC%97%86%EB%8A%94_%EA%B1%B0%EB%A6%AC\n",
      "태초의 아침 >>> https://ko.wikisource.org//wiki/%ED%95%98%EB%8A%98%EA%B3%BC_%EB%B0%94%EB%9E%8C%EA%B3%BC_%EB%B3%84%EA%B3%BC_%EC%8B%9C/%ED%83%9C%EC%B4%88%EC%9D%98_%EC%95%84%EC%B9%A8\n",
      "또 태초의 아침 >>> https://ko.wikisource.org//wiki/%ED%95%98%EB%8A%98%EA%B3%BC_%EB%B0%94%EB%9E%8C%EA%B3%BC_%EB%B3%84%EA%B3%BC_%EC%8B%9C/%EB%98%90_%ED%83%9C%EC%B4%88%EC%9D%98_%EC%95%84%EC%B9%A8\n",
      "새벽이 올 때까지 >>> https://ko.wikisource.org//wiki/%ED%95%98%EB%8A%98%EA%B3%BC_%EB%B0%94%EB%9E%8C%EA%B3%BC_%EB%B3%84%EA%B3%BC_%EC%8B%9C/%EC%83%88%EB%B2%BD%EC%9D%B4_%EC%98%AC_%EB%95%8C%EA%B9%8C%EC%A7%80\n",
      "무서운 시간 >>> https://ko.wikisource.org//wiki/%ED%95%98%EB%8A%98%EA%B3%BC_%EB%B0%94%EB%9E%8C%EA%B3%BC_%EB%B3%84%EA%B3%BC_%EC%8B%9C/%EB%AC%B4%EC%84%9C%EC%9A%B4_%EC%8B%9C%EA%B0%84\n",
      "십자가 >>> https://ko.wikisource.org//wiki/%ED%95%98%EB%8A%98%EA%B3%BC_%EB%B0%94%EB%9E%8C%EA%B3%BC_%EB%B3%84%EA%B3%BC_%EC%8B%9C/%EC%8B%AD%EC%9E%90%EA%B0%80\n",
      "바람이 불어 >>> https://ko.wikisource.org//wiki/%ED%95%98%EB%8A%98%EA%B3%BC_%EB%B0%94%EB%9E%8C%EA%B3%BC_%EB%B3%84%EA%B3%BC_%EC%8B%9C/%EB%B0%94%EB%9E%8C%EC%9D%B4_%EB%B6%88%EC%96%B4\n",
      "슬픈 족속 >>> https://ko.wikisource.org//wiki/%ED%95%98%EB%8A%98%EA%B3%BC_%EB%B0%94%EB%9E%8C%EA%B3%BC_%EB%B3%84%EA%B3%BC_%EC%8B%9C/%EC%8A%AC%ED%94%88_%EC%A1%B1%EC%86%8D\n",
      "눈감고 간다 >>> https://ko.wikisource.org//wiki/%ED%95%98%EB%8A%98%EA%B3%BC_%EB%B0%94%EB%9E%8C%EA%B3%BC_%EB%B3%84%EA%B3%BC_%EC%8B%9C/%EB%88%88%EA%B0%90%EA%B3%A0_%EA%B0%84%EB%8B%A4\n",
      "또 다른 고향 >>> https://ko.wikisource.org//wiki/%ED%95%98%EB%8A%98%EA%B3%BC_%EB%B0%94%EB%9E%8C%EA%B3%BC_%EB%B3%84%EA%B3%BC_%EC%8B%9C/%EB%98%90_%EB%8B%A4%EB%A5%B8_%EA%B3%A0%ED%96%A5\n",
      "길 >>> https://ko.wikisource.org//wiki/%ED%95%98%EB%8A%98%EA%B3%BC_%EB%B0%94%EB%9E%8C%EA%B3%BC_%EB%B3%84%EA%B3%BC_%EC%8B%9C/%EA%B8%B8\n",
      "별 헤는 밤 >>> https://ko.wikisource.org//wiki/%ED%95%98%EB%8A%98%EA%B3%BC_%EB%B0%94%EB%9E%8C%EA%B3%BC_%EB%B3%84%EA%B3%BC_%EC%8B%9C/%EB%B3%84_%ED%97%A4%EB%8A%94_%EB%B0%A4\n",
      "증보판 >>> https://ko.wikisource.org//wiki/%ED%95%98%EB%8A%98%EA%B3%BC_%EB%B0%94%EB%9E%8C%EA%B3%BC_%EB%B3%84%EA%B3%BC_%EC%8B%9C_(1955%EB%85%84)\n",
      "흰 그림자 >>> https://ko.wikisource.org//wiki/%ED%9D%B0_%EA%B7%B8%EB%A6%BC%EC%9E%90\n",
      "사랑스런 추억 >>> https://ko.wikisource.org//wiki/%EC%82%AC%EB%9E%91%EC%8A%A4%EB%9F%B0_%EC%B6%94%EC%96%B5\n",
      "흐르는 거리 >>> https://ko.wikisource.org//wiki/%ED%9D%90%EB%A5%B4%EB%8A%94_%EA%B1%B0%EB%A6%AC\n",
      "봄 >>> https://ko.wikisource.org//wiki/%EB%B4%84_(%EC%9C%A4%EB%8F%99%EC%A3%BC)\n",
      "참회록 >>> https://ko.wikisource.org//wiki/%EC%B0%B8%ED%9A%8C%EB%A1%9D\n",
      "간(肝) >>> https://ko.wikisource.org//wiki/%EA%B0%84\n",
      "위로 >>> https://ko.wikisource.org//wiki/%EC%9C%84%EB%A1%9C\n",
      "팔복 >>> https://ko.wikisource.org//wiki/%ED%8C%94%EB%B3%B5\n",
      "못자는밤 >>> https://ko.wikisource.org//wiki/%EB%AA%BB%EC%9E%90%EB%8A%94%EB%B0%A4\n",
      "달같이 >>> https://ko.wikisource.org//wiki/%EB%8B%AC%EA%B0%99%EC%9D%B4\n",
      "고추밭 >>> https://ko.wikisource.org//wiki/%EA%B3%A0%EC%B6%94%EB%B0%AD\n",
      "아우의 인상화 >>> https://ko.wikisource.org//wiki/%EC%95%84%EC%9A%B0%EC%9D%98_%EC%9D%B8%EC%83%81%ED%99%94\n",
      "사랑의 전당 >>> https://ko.wikisource.org//wiki/%EC%82%AC%EB%9E%91%EC%9D%98_%EC%A0%84%EB%8B%B9\n",
      "이적 >>> https://ko.wikisource.org//wiki/%EC%9D%B4%EC%A0%81_(%EC%9C%A4%EB%8F%99%EC%A3%BC)\n",
      "비오는 밤 >>> https://ko.wikisource.org//wiki/%EB%B9%84%EC%98%A4%EB%8A%94_%EB%B0%A4\n",
      "산골물 >>> https://ko.wikisource.org//wiki/%EC%82%B0%EA%B3%A8%EB%AC%BC\n",
      "유언 >>> https://ko.wikisource.org//wiki/%EC%9C%A0%EC%96%B8_(%EC%9C%A4%EB%8F%99%EC%A3%BC)\n",
      "창 >>> https://ko.wikisource.org//wiki/%EC%B0%BD_(%EC%9C%A4%EB%8F%99%EC%A3%BC)\n",
      "바다 >>> https://ko.wikisource.org//wiki/%EB%B0%94%EB%8B%A4_(%EC%9C%A4%EB%8F%99%EC%A3%BC)\n",
      "비로봉 >>> https://ko.wikisource.org//wiki/%EB%B9%84%EB%A1%9C%EB%B4%89_(%EC%9C%A4%EB%8F%99%EC%A3%BC)\n",
      "산협의 오후 >>> https://ko.wikisource.org//wiki/%EC%82%B0%ED%98%91%EC%9D%98_%EC%98%A4%ED%9B%84\n",
      "명상 >>> https://ko.wikisource.org//wiki/%EB%AA%85%EC%83%81_(%EC%9C%A4%EB%8F%99%EC%A3%BC)\n",
      "소낙비 >>> https://ko.wikisource.org//wiki/%EC%86%8C%EB%82%99%EB%B9%84_(%EC%9C%A4%EB%8F%99%EC%A3%BC)\n",
      "한난계 >>> https://ko.wikisource.org//wiki/%ED%95%9C%EB%82%9C%EA%B3%84\n",
      "풍경 >>> https://ko.wikisource.org//wiki/%ED%92%8D%EA%B2%BD\n",
      "달밤 >>> https://ko.wikisource.org//wiki/%EB%8B%AC%EB%B0%A4_(%EC%9C%A4%EB%8F%99%EC%A3%BC)\n",
      "장 >>> https://ko.wikisource.org//wiki/%EC%9E%A5_(%EC%9C%A4%EB%8F%99%EC%A3%BC)\n",
      "밤 >>> https://ko.wikisource.org//wiki/%EB%B0%A4_(%EC%9C%A4%EB%8F%99%EC%A3%BC)\n",
      "황혼이 바다가 되어 >>> https://ko.wikisource.org//wiki/%ED%99%A9%ED%98%BC%EC%9D%B4_%EB%B0%94%EB%8B%A4%EA%B0%80_%EB%90%98%EC%96%B4\n",
      "아침 >>> https://ko.wikisource.org//wiki/%EC%95%84%EC%B9%A8_(%EC%9C%A4%EB%8F%99%EC%A3%BC)\n",
      "빨래 >>> https://ko.wikisource.org//wiki/%EB%B9%A8%EB%9E%98\n",
      "꿈은 깨어지고 >>> https://ko.wikisource.org//wiki/%EA%BF%88%EC%9D%80_%EA%B9%A8%EC%96%B4%EC%A7%80%EA%B3%A0\n",
      "산림 >>> https://ko.wikisource.org//wiki/%EC%82%B0%EB%A6%BC_(%EC%9C%A4%EB%8F%99%EC%A3%BC)\n",
      "이런날 >>> https://ko.wikisource.org//wiki/%EC%9D%B4%EB%9F%B0%EB%82%A0\n",
      "산상 >>> https://ko.wikisource.org//wiki/%EC%82%B0%EC%83%81\n",
      "양지쪽 >>> https://ko.wikisource.org//wiki/%EC%96%91%EC%A7%80%EC%AA%BD\n",
      "닭 >>> https://ko.wikisource.org//wiki/%EB%8B%AD_(%EC%9C%A4%EB%8F%99%EC%A3%BC)\n",
      "가슴 1 >>> https://ko.wikisource.org//wiki/%EA%B0%80%EC%8A%B4_1\n",
      "가슴 2 >>> https://ko.wikisource.org//wiki/%EA%B0%80%EC%8A%B4_2\n",
      "비둘기 >>> https://ko.wikisource.org//wiki/%EB%B9%84%EB%91%98%EA%B8%B0_(%EC%9C%A4%EB%8F%99%EC%A3%BC)\n",
      "황혼 >>> https://ko.wikisource.org//wiki/%ED%99%A9%ED%98%BC_(%EC%9C%A4%EB%8F%99%EC%A3%BC)\n",
      "남쪽 하늘 >>> https://ko.wikisource.org//wiki/%EB%82%A8%EC%AA%BD_%ED%95%98%EB%8A%98\n",
      "창공 >>> https://ko.wikisource.org//wiki/%EC%B0%BD%EA%B3%B5\n",
      "거리에서 >>> https://ko.wikisource.org//wiki/%EA%B1%B0%EB%A6%AC%EC%97%90%EC%84%9C\n",
      "삶과 죽음 >>> https://ko.wikisource.org//wiki/%EC%82%B6%EA%B3%BC_%EC%A3%BD%EC%9D%8C\n",
      "초한대 >>> https://ko.wikisource.org//wiki/%EC%B4%88%ED%95%9C%EB%8C%80\n",
      "산울림 >>> https://ko.wikisource.org//wiki/%EC%82%B0%EC%9A%B8%EB%A6%BC\n",
      "해바라기 얼굴 >>> https://ko.wikisource.org//wiki/%ED%95%B4%EB%B0%94%EB%9D%BC%EA%B8%B0_%EC%96%BC%EA%B5%B4\n",
      "귀뚜라미와 나와 >>> https://ko.wikisource.org//wiki/%EA%B7%80%EB%9A%9C%EB%9D%BC%EB%AF%B8%EC%99%80_%EB%82%98%EC%99%80\n",
      "애기의 새벽 >>> https://ko.wikisource.org//wiki/%EC%95%A0%EA%B8%B0%EC%9D%98_%EC%83%88%EB%B2%BD\n",
      "햇빛·바람 >>> https://ko.wikisource.org//wiki/%ED%96%87%EB%B9%9B%C2%B7%EB%B0%94%EB%9E%8C\n",
      "반디불 >>> https://ko.wikisource.org//wiki/%EB%B0%98%EB%94%94%EB%B6%88\n",
      "둘 다 >>> https://ko.wikisource.org//wiki/%EB%91%98_%EB%8B%A4\n",
      "거짓부리 >>> https://ko.wikisource.org//wiki/%EA%B1%B0%EC%A7%93%EB%B6%80%EB%A6%AC\n",
      "눈 >>> https://ko.wikisource.org//wiki/%EB%88%88_(%EC%9C%A4%EB%8F%99%EC%A3%BC)\n",
      "참새 >>> https://ko.wikisource.org//wiki/%EC%B0%B8%EC%83%88_(%EC%9C%A4%EB%8F%99%EC%A3%BC)\n",
      "버선본 >>> https://ko.wikisource.org//wiki/%EB%B2%84%EC%84%A0%EB%B3%B8\n",
      "편지 >>> https://ko.wikisource.org//wiki/%ED%8E%B8%EC%A7%80_(%EC%9C%A4%EB%8F%99%EC%A3%BC)\n",
      "봄 >>> https://ko.wikisource.org//wiki/%EB%B4%84_2_(%EC%9C%A4%EB%8F%99%EC%A3%BC)\n",
      "무얼 먹구 사나 >>> https://ko.wikisource.org//wiki/%EB%AC%B4%EC%96%BC_%EB%A8%B9%EA%B5%AC_%EC%82%AC%EB%82%98\n",
      "굴뚝 >>> https://ko.wikisource.org//wiki/%EA%B5%B4%EB%9A%9D_(%EC%9C%A4%EB%8F%99%EC%A3%BC)\n",
      "햇비 >>> https://ko.wikisource.org//wiki/%ED%96%87%EB%B9%84\n",
      "빗자루 >>> https://ko.wikisource.org//wiki/%EB%B9%97%EC%9E%90%EB%A3%A8\n",
      "기왓장 내외 >>> https://ko.wikisource.org//wiki/%EA%B8%B0%EC%99%93%EC%9E%A5_%EB%82%B4%EC%99%B8\n",
      "오줌싸개 지도 >>> https://ko.wikisource.org//wiki/%EC%98%A4%EC%A4%8C%EC%8B%B8%EA%B0%9C_%EC%A7%80%EB%8F%84\n",
      "병아리 >>> https://ko.wikisource.org//wiki/%EB%B3%91%EC%95%84%EB%A6%AC\n",
      "조개껍질 >>> https://ko.wikisource.org//wiki/%EC%A1%B0%EA%B0%9C%EA%BB%8D%EC%A7%88\n",
      "겨울 >>> https://ko.wikisource.org//wiki/%EA%B2%A8%EC%9A%B8_(%EC%9C%A4%EB%8F%99%EC%A3%BC)\n",
      "트루게네프의 언덕 >>> https://ko.wikisource.org//wiki/%ED%8A%B8%EB%A3%A8%EA%B2%8C%EB%84%A4%ED%94%84%EC%9D%98_%EC%96%B8%EB%8D%95\n",
      "달을 쏘다 >>> https://ko.wikisource.org//wiki/%EB%8B%AC%EC%9D%84_%EC%8F%98%EB%8B%A4\n",
      "별똥 떨어진 데 >>> https://ko.wikisource.org//wiki/%EB%B3%84%EB%98%A5_%EB%96%A8%EC%96%B4%EC%A7%84_%EB%8D%B0\n",
      "화원에 꽃이 핀다 >>> https://ko.wikisource.org//wiki/%ED%99%94%EC%9B%90%EC%97%90_%EA%BD%83%EC%9D%B4_%ED%95%80%EB%8B%A4\n",
      "종시 >>> https://ko.wikisource.org//wiki/%EC%A2%85%EC%8B%9C\n"
     ]
    }
   ],
   "source": [
    "# 윤동주 시인 작품 가져오기\n",
    "# https://ko.wikisource.org/wiki/%EC%A0%80%EC%9E%90:%EC%9C%A4%EB%8F%99%EC%A3%BC\n",
    "# %EC%A0%80%EC%9E%90:%EC%9C%A4%EB%8F%99%EC%A3%BC 이거 한글임\n",
    "# mw-content-text > div.mw-parser-output > ul:nth-child(6) > li > b > a\n",
    "# mw-content-text > div.mw-parser-output > ul:nth-child(6) > li > ul > li:nth-child(1)\n",
    "# mw-content-text > div.mw-parser-output > ul:nth-child(6) > li > ul > li:nth-child(19)\n",
    "# mw-content-text > div.mw-parser-output > ul:nth-child(7) > li:nth-child(1) > a\n",
    "# mw-content-text > div.mw-parser-output > ul:nth-child(9) > li:nth-child(22) > a\n",
    "# mw-content-text > div.mw-parser-output > ul:nth-child(12) > li:nth-child(1) > a\n",
    "# mw-content-text > div.mw-parser-output > ul:nth-child(12) > li:nth-child(5) > a\n",
    "# mw-content-text > div.mw-parser-output > ul:nth-child(6) > li > b > a\n",
    "# mw-content-text > div.mw-parser-output > ul:nth-child(6) > li > a\n",
    "#mw-content-text > div.mw-parser-output > ul:nth-child(6) > li > ul > li:nth-child(1) > a\n",
    "from bs4 import BeautifulSoup\n",
    "import urllib.request as req\n",
    "\n",
    "# HTML\n",
    "url = \"https://ko.wikisource.org/wiki/%EC%A0%80%EC%9E%90:%EC%9C%A4%EB%8F%99%EC%A3%BC\"\n",
    "res = req.urlopen(url)\n",
    "\n",
    "# HTML 분석\n",
    "soup = BeautifulSoup(res, \"html.parser\")\n",
    "# print(soup)\n",
    "\n",
    "# 데이터 추출하기\n",
    "worklist1 = soup.select(\"div.mw-parser-output > ul > li > b > a\")\n",
    "worklist2 = soup.select(\"div.mw-parser-output > ul > li > ul > li > a\")\n",
    "worklist3 = soup.select(\"div.mw-parser-output > ul > li > a\")\n",
    "\n",
    "# print(work)\n",
    "\n",
    "for work1 in worklist1:\n",
    "    text1 = work1.string\n",
    "    href = 'https://ko.wikisource.org/' + work1.attrs['href']\n",
    "    print(text1, \">>>\", href)\n",
    "    \n",
    "for work2 in worklist2:\n",
    "    text2 = work2.string\n",
    "    href = 'https://ko.wikisource.org/' + work2.attrs['href']\n",
    "    print(text2, \">>>\", href)\n",
    "    \n",
    "for work3 in worklist3:\n",
    "    text3 = work3.string\n",
    "    href = 'https://ko.wikisource.org/' + work3.attrs['href']\n",
    "    print(text3, \">>>\", href)"
   ]
  },
  {
   "cell_type": "code",
   "execution_count": 139,
   "id": "24e7ae7f",
   "metadata": {},
   "outputs": [
    {
     "name": "stdout",
     "output_type": "stream",
     "text": [
      "하늘과 바람과 별과 시 https://ko.wikisource.org//wiki/%ED%95%98%EB%8A%98%EA%B3%BC_%EB%B0%94%EB%9E%8C%EA%B3%BC_%EB%B3%84%EA%B3%BC_%EC%8B%9C\n",
      "증보판 https://ko.wikisource.org//wiki/%ED%95%98%EB%8A%98%EA%B3%BC_%EB%B0%94%EB%9E%8C%EA%B3%BC_%EB%B3%84%EA%B3%BC_%EC%8B%9C_(1955%EB%85%84)\n",
      "서시 https://ko.wikisource.org//wiki/%ED%95%98%EB%8A%98%EA%B3%BC_%EB%B0%94%EB%9E%8C%EA%B3%BC_%EB%B3%84%EA%B3%BC_%EC%8B%9C/%EC%84%9C%EC%8B%9C\n",
      "자화상 https://ko.wikisource.org//wiki/%ED%95%98%EB%8A%98%EA%B3%BC_%EB%B0%94%EB%9E%8C%EA%B3%BC_%EB%B3%84%EA%B3%BC_%EC%8B%9C/%EC%9E%90%ED%99%94%EC%83%81\n",
      "소년 https://ko.wikisource.org//wiki/%ED%95%98%EB%8A%98%EA%B3%BC_%EB%B0%94%EB%9E%8C%EA%B3%BC_%EB%B3%84%EA%B3%BC_%EC%8B%9C/%EC%86%8C%EB%85%84\n",
      "눈 오는 지도 https://ko.wikisource.org//wiki/%ED%95%98%EB%8A%98%EA%B3%BC_%EB%B0%94%EB%9E%8C%EA%B3%BC_%EB%B3%84%EA%B3%BC_%EC%8B%9C/%EB%88%88_%EC%98%A4%EB%8A%94_%EC%A7%80%EB%8F%84\n",
      "돌아와 보는 밤 https://ko.wikisource.org//wiki/%ED%95%98%EB%8A%98%EA%B3%BC_%EB%B0%94%EB%9E%8C%EA%B3%BC_%EB%B3%84%EA%B3%BC_%EC%8B%9C/%EB%8F%8C%EC%95%84%EC%99%80_%EB%B3%B4%EB%8A%94_%EB%B0%A4\n",
      "병원 https://ko.wikisource.org//wiki/%ED%95%98%EB%8A%98%EA%B3%BC_%EB%B0%94%EB%9E%8C%EA%B3%BC_%EB%B3%84%EA%B3%BC_%EC%8B%9C/%EB%B3%91%EC%9B%90\n",
      "새로운 길 https://ko.wikisource.org//wiki/%ED%95%98%EB%8A%98%EA%B3%BC_%EB%B0%94%EB%9E%8C%EA%B3%BC_%EB%B3%84%EA%B3%BC_%EC%8B%9C/%EC%83%88%EB%A1%9C%EC%9A%B4_%EA%B8%B8\n",
      "간판 없는 거리 https://ko.wikisource.org//wiki/%ED%95%98%EB%8A%98%EA%B3%BC_%EB%B0%94%EB%9E%8C%EA%B3%BC_%EB%B3%84%EA%B3%BC_%EC%8B%9C/%EA%B0%84%ED%8C%90_%EC%97%86%EB%8A%94_%EA%B1%B0%EB%A6%AC\n",
      "태초의 아침 https://ko.wikisource.org//wiki/%ED%95%98%EB%8A%98%EA%B3%BC_%EB%B0%94%EB%9E%8C%EA%B3%BC_%EB%B3%84%EA%B3%BC_%EC%8B%9C/%ED%83%9C%EC%B4%88%EC%9D%98_%EC%95%84%EC%B9%A8\n",
      "또 태초의 아침 https://ko.wikisource.org//wiki/%ED%95%98%EB%8A%98%EA%B3%BC_%EB%B0%94%EB%9E%8C%EA%B3%BC_%EB%B3%84%EA%B3%BC_%EC%8B%9C/%EB%98%90_%ED%83%9C%EC%B4%88%EC%9D%98_%EC%95%84%EC%B9%A8\n",
      "새벽이 올 때까지 https://ko.wikisource.org//wiki/%ED%95%98%EB%8A%98%EA%B3%BC_%EB%B0%94%EB%9E%8C%EA%B3%BC_%EB%B3%84%EA%B3%BC_%EC%8B%9C/%EC%83%88%EB%B2%BD%EC%9D%B4_%EC%98%AC_%EB%95%8C%EA%B9%8C%EC%A7%80\n",
      "무서운 시간 https://ko.wikisource.org//wiki/%ED%95%98%EB%8A%98%EA%B3%BC_%EB%B0%94%EB%9E%8C%EA%B3%BC_%EB%B3%84%EA%B3%BC_%EC%8B%9C/%EB%AC%B4%EC%84%9C%EC%9A%B4_%EC%8B%9C%EA%B0%84\n",
      "십자가 https://ko.wikisource.org//wiki/%ED%95%98%EB%8A%98%EA%B3%BC_%EB%B0%94%EB%9E%8C%EA%B3%BC_%EB%B3%84%EA%B3%BC_%EC%8B%9C/%EC%8B%AD%EC%9E%90%EA%B0%80\n",
      "바람이 불어 https://ko.wikisource.org//wiki/%ED%95%98%EB%8A%98%EA%B3%BC_%EB%B0%94%EB%9E%8C%EA%B3%BC_%EB%B3%84%EA%B3%BC_%EC%8B%9C/%EB%B0%94%EB%9E%8C%EC%9D%B4_%EB%B6%88%EC%96%B4\n",
      "슬픈 족속 https://ko.wikisource.org//wiki/%ED%95%98%EB%8A%98%EA%B3%BC_%EB%B0%94%EB%9E%8C%EA%B3%BC_%EB%B3%84%EA%B3%BC_%EC%8B%9C/%EC%8A%AC%ED%94%88_%EC%A1%B1%EC%86%8D\n",
      "눈감고 간다 https://ko.wikisource.org//wiki/%ED%95%98%EB%8A%98%EA%B3%BC_%EB%B0%94%EB%9E%8C%EA%B3%BC_%EB%B3%84%EA%B3%BC_%EC%8B%9C/%EB%88%88%EA%B0%90%EA%B3%A0_%EA%B0%84%EB%8B%A4\n",
      "또 다른 고향 https://ko.wikisource.org//wiki/%ED%95%98%EB%8A%98%EA%B3%BC_%EB%B0%94%EB%9E%8C%EA%B3%BC_%EB%B3%84%EA%B3%BC_%EC%8B%9C/%EB%98%90_%EB%8B%A4%EB%A5%B8_%EA%B3%A0%ED%96%A5\n",
      "길 https://ko.wikisource.org//wiki/%ED%95%98%EB%8A%98%EA%B3%BC_%EB%B0%94%EB%9E%8C%EA%B3%BC_%EB%B3%84%EA%B3%BC_%EC%8B%9C/%EA%B8%B8\n",
      "별 헤는 밤 https://ko.wikisource.org//wiki/%ED%95%98%EB%8A%98%EA%B3%BC_%EB%B0%94%EB%9E%8C%EA%B3%BC_%EB%B3%84%EA%B3%BC_%EC%8B%9C/%EB%B3%84_%ED%97%A4%EB%8A%94_%EB%B0%A4\n",
      "흰 그림자 https://ko.wikisource.org//wiki/%ED%9D%B0_%EA%B7%B8%EB%A6%BC%EC%9E%90\n",
      "사랑스런 추억 https://ko.wikisource.org//wiki/%EC%82%AC%EB%9E%91%EC%8A%A4%EB%9F%B0_%EC%B6%94%EC%96%B5\n",
      "흐르는 거리 https://ko.wikisource.org//wiki/%ED%9D%90%EB%A5%B4%EB%8A%94_%EA%B1%B0%EB%A6%AC\n",
      "쉽게 씌어진 시 https://ko.wikisource.org//wiki/%EC%89%BD%EA%B2%8C_%EC%94%8C%EC%96%B4%EC%A7%84_%EC%8B%9C\n",
      "봄 https://ko.wikisource.org//wiki/%EB%B4%84_(%EC%9C%A4%EB%8F%99%EC%A3%BC)\n",
      "참회록 https://ko.wikisource.org//wiki/%EC%B0%B8%ED%9A%8C%EB%A1%9D\n",
      "간(肝) https://ko.wikisource.org//wiki/%EA%B0%84\n",
      "위로 https://ko.wikisource.org//wiki/%EC%9C%84%EB%A1%9C\n",
      "팔복 https://ko.wikisource.org//wiki/%ED%8C%94%EB%B3%B5\n",
      "못자는밤 https://ko.wikisource.org//wiki/%EB%AA%BB%EC%9E%90%EB%8A%94%EB%B0%A4\n",
      "달같이 https://ko.wikisource.org//wiki/%EB%8B%AC%EA%B0%99%EC%9D%B4\n",
      "고추밭 https://ko.wikisource.org//wiki/%EA%B3%A0%EC%B6%94%EB%B0%AD\n",
      "아우의 인상화 https://ko.wikisource.org//wiki/%EC%95%84%EC%9A%B0%EC%9D%98_%EC%9D%B8%EC%83%81%ED%99%94\n",
      "사랑의 전당 https://ko.wikisource.org//wiki/%EC%82%AC%EB%9E%91%EC%9D%98_%EC%A0%84%EB%8B%B9\n",
      "이적 https://ko.wikisource.org//wiki/%EC%9D%B4%EC%A0%81_(%EC%9C%A4%EB%8F%99%EC%A3%BC)\n",
      "비오는 밤 https://ko.wikisource.org//wiki/%EB%B9%84%EC%98%A4%EB%8A%94_%EB%B0%A4\n",
      "산골물 https://ko.wikisource.org//wiki/%EC%82%B0%EA%B3%A8%EB%AC%BC\n",
      "유언 https://ko.wikisource.org//wiki/%EC%9C%A0%EC%96%B8_(%EC%9C%A4%EB%8F%99%EC%A3%BC)\n",
      "창 https://ko.wikisource.org//wiki/%EC%B0%BD_(%EC%9C%A4%EB%8F%99%EC%A3%BC)\n",
      "바다 https://ko.wikisource.org//wiki/%EB%B0%94%EB%8B%A4_(%EC%9C%A4%EB%8F%99%EC%A3%BC)\n",
      "비로봉 https://ko.wikisource.org//wiki/%EB%B9%84%EB%A1%9C%EB%B4%89_(%EC%9C%A4%EB%8F%99%EC%A3%BC)\n",
      "산협의 오후 https://ko.wikisource.org//wiki/%EC%82%B0%ED%98%91%EC%9D%98_%EC%98%A4%ED%9B%84\n",
      "명상 https://ko.wikisource.org//wiki/%EB%AA%85%EC%83%81_(%EC%9C%A4%EB%8F%99%EC%A3%BC)\n",
      "소낙비 https://ko.wikisource.org//wiki/%EC%86%8C%EB%82%99%EB%B9%84_(%EC%9C%A4%EB%8F%99%EC%A3%BC)\n",
      "한난계 https://ko.wikisource.org//wiki/%ED%95%9C%EB%82%9C%EA%B3%84\n",
      "풍경 https://ko.wikisource.org//wiki/%ED%92%8D%EA%B2%BD\n",
      "달밤 https://ko.wikisource.org//wiki/%EB%8B%AC%EB%B0%A4_(%EC%9C%A4%EB%8F%99%EC%A3%BC)\n",
      "장 https://ko.wikisource.org//wiki/%EC%9E%A5_(%EC%9C%A4%EB%8F%99%EC%A3%BC)\n",
      "밤 https://ko.wikisource.org//wiki/%EB%B0%A4_(%EC%9C%A4%EB%8F%99%EC%A3%BC)\n",
      "황혼이 바다가 되어 https://ko.wikisource.org//wiki/%ED%99%A9%ED%98%BC%EC%9D%B4_%EB%B0%94%EB%8B%A4%EA%B0%80_%EB%90%98%EC%96%B4\n",
      "아침 https://ko.wikisource.org//wiki/%EC%95%84%EC%B9%A8_(%EC%9C%A4%EB%8F%99%EC%A3%BC)\n",
      "빨래 https://ko.wikisource.org//wiki/%EB%B9%A8%EB%9E%98\n",
      "꿈은 깨어지고 https://ko.wikisource.org//wiki/%EA%BF%88%EC%9D%80_%EA%B9%A8%EC%96%B4%EC%A7%80%EA%B3%A0\n",
      "산림 https://ko.wikisource.org//wiki/%EC%82%B0%EB%A6%BC_(%EC%9C%A4%EB%8F%99%EC%A3%BC)\n",
      "이런날 https://ko.wikisource.org//wiki/%EC%9D%B4%EB%9F%B0%EB%82%A0\n",
      "산상 https://ko.wikisource.org//wiki/%EC%82%B0%EC%83%81\n",
      "양지쪽 https://ko.wikisource.org//wiki/%EC%96%91%EC%A7%80%EC%AA%BD\n",
      "닭 https://ko.wikisource.org//wiki/%EB%8B%AD_(%EC%9C%A4%EB%8F%99%EC%A3%BC)\n",
      "가슴 1 https://ko.wikisource.org//wiki/%EA%B0%80%EC%8A%B4_1\n",
      "가슴 2 https://ko.wikisource.org//wiki/%EA%B0%80%EC%8A%B4_2\n",
      "비둘기 https://ko.wikisource.org//wiki/%EB%B9%84%EB%91%98%EA%B8%B0_(%EC%9C%A4%EB%8F%99%EC%A3%BC)\n",
      "황혼 https://ko.wikisource.org//wiki/%ED%99%A9%ED%98%BC_(%EC%9C%A4%EB%8F%99%EC%A3%BC)\n",
      "남쪽 하늘 https://ko.wikisource.org//wiki/%EB%82%A8%EC%AA%BD_%ED%95%98%EB%8A%98\n",
      "창공 https://ko.wikisource.org//wiki/%EC%B0%BD%EA%B3%B5\n",
      "거리에서 https://ko.wikisource.org//wiki/%EA%B1%B0%EB%A6%AC%EC%97%90%EC%84%9C\n",
      "삶과 죽음 https://ko.wikisource.org//wiki/%EC%82%B6%EA%B3%BC_%EC%A3%BD%EC%9D%8C\n",
      "초한대 https://ko.wikisource.org//wiki/%EC%B4%88%ED%95%9C%EB%8C%80\n",
      "산울림 https://ko.wikisource.org//wiki/%EC%82%B0%EC%9A%B8%EB%A6%BC\n",
      "해바라기 얼굴 https://ko.wikisource.org//wiki/%ED%95%B4%EB%B0%94%EB%9D%BC%EA%B8%B0_%EC%96%BC%EA%B5%B4\n",
      "귀뚜라미와 나와 https://ko.wikisource.org//wiki/%EA%B7%80%EB%9A%9C%EB%9D%BC%EB%AF%B8%EC%99%80_%EB%82%98%EC%99%80\n",
      "애기의 새벽 https://ko.wikisource.org//wiki/%EC%95%A0%EA%B8%B0%EC%9D%98_%EC%83%88%EB%B2%BD\n",
      "햇빛·바람 https://ko.wikisource.org//wiki/%ED%96%87%EB%B9%9B%C2%B7%EB%B0%94%EB%9E%8C\n",
      "반디불 https://ko.wikisource.org//wiki/%EB%B0%98%EB%94%94%EB%B6%88\n",
      "둘 다 https://ko.wikisource.org//wiki/%EB%91%98_%EB%8B%A4\n",
      "거짓부리 https://ko.wikisource.org//wiki/%EA%B1%B0%EC%A7%93%EB%B6%80%EB%A6%AC\n",
      "눈 https://ko.wikisource.org//wiki/%EB%88%88_(%EC%9C%A4%EB%8F%99%EC%A3%BC)\n",
      "참새 https://ko.wikisource.org//wiki/%EC%B0%B8%EC%83%88_(%EC%9C%A4%EB%8F%99%EC%A3%BC)\n",
      "버선본 https://ko.wikisource.org//wiki/%EB%B2%84%EC%84%A0%EB%B3%B8\n",
      "편지 https://ko.wikisource.org//wiki/%ED%8E%B8%EC%A7%80_(%EC%9C%A4%EB%8F%99%EC%A3%BC)\n",
      "봄 https://ko.wikisource.org//wiki/%EB%B4%84_2_(%EC%9C%A4%EB%8F%99%EC%A3%BC)\n",
      "무얼 먹구 사나 https://ko.wikisource.org//wiki/%EB%AC%B4%EC%96%BC_%EB%A8%B9%EA%B5%AC_%EC%82%AC%EB%82%98\n",
      "굴뚝 https://ko.wikisource.org//wiki/%EA%B5%B4%EB%9A%9D_(%EC%9C%A4%EB%8F%99%EC%A3%BC)\n",
      "햇비 https://ko.wikisource.org//wiki/%ED%96%87%EB%B9%84\n",
      "빗자루 https://ko.wikisource.org//wiki/%EB%B9%97%EC%9E%90%EB%A3%A8\n",
      "기왓장 내외 https://ko.wikisource.org//wiki/%EA%B8%B0%EC%99%93%EC%9E%A5_%EB%82%B4%EC%99%B8\n",
      "오줌싸개 지도 https://ko.wikisource.org//wiki/%EC%98%A4%EC%A4%8C%EC%8B%B8%EA%B0%9C_%EC%A7%80%EB%8F%84\n",
      "병아리 https://ko.wikisource.org//wiki/%EB%B3%91%EC%95%84%EB%A6%AC\n",
      "조개껍질 https://ko.wikisource.org//wiki/%EC%A1%B0%EA%B0%9C%EA%BB%8D%EC%A7%88\n",
      "겨울 https://ko.wikisource.org//wiki/%EA%B2%A8%EC%9A%B8_(%EC%9C%A4%EB%8F%99%EC%A3%BC)\n",
      "트루게네프의 언덕 https://ko.wikisource.org//wiki/%ED%8A%B8%EB%A3%A8%EA%B2%8C%EB%84%A4%ED%94%84%EC%9D%98_%EC%96%B8%EB%8D%95\n",
      "달을 쏘다 https://ko.wikisource.org//wiki/%EB%8B%AC%EC%9D%84_%EC%8F%98%EB%8B%A4\n",
      "별똥 떨어진 데 https://ko.wikisource.org//wiki/%EB%B3%84%EB%98%A5_%EB%96%A8%EC%96%B4%EC%A7%84_%EB%8D%B0\n",
      "화원에 꽃이 핀다 https://ko.wikisource.org//wiki/%ED%99%94%EC%9B%90%EC%97%90_%EA%BD%83%EC%9D%B4_%ED%95%80%EB%8B%A4\n",
      "종시 https://ko.wikisource.org//wiki/%EC%A2%85%EC%8B%9C\n"
     ]
    }
   ],
   "source": [
    "from bs4 import BeautifulSoup\n",
    "import urllib.request as req\n",
    "\n",
    "# HTML\n",
    "url = \"https://ko.wikisource.org/wiki/%EC%A0%80%EC%9E%90:%EC%9C%A4%EB%8F%99%EC%A3%BC\"\n",
    "res = req.urlopen(url)\n",
    "\n",
    "# HTML 분석\n",
    "soup = BeautifulSoup(res, \"html.parser\")\n",
    "# print(soup)\n",
    "\n",
    "# 데이터 추출하기\n",
    "worklist1 = soup.select(\"div.mw-parser-output ul li b a\")\n",
    "worklist2 = soup.select(\"div.mw-parser-output ul li ul li a\")\n",
    "worklist3 = soup.select(\"div.mw-parser-output ul li a\")\n",
    "\n",
    "booklist = []\n",
    "\n",
    "for i in range(0,len(worklist3)):\n",
    "    link = 'https://ko.wikisource.org/' + worklist3[i].attrs['href']\n",
    "    text = worklist3[i].text\n",
    "    booklist.append((text, link))\n",
    "    \n",
    "for i in booklist:\n",
    "    print(i[0], i[1])"
   ]
  },
  {
   "cell_type": "code",
   "execution_count": 147,
   "id": "e7410d75",
   "metadata": {
    "collapsed": true
   },
   "outputs": [
    {
     "name": "stdout",
     "output_type": "stream",
     "text": [
      "- 하늘과 바람과 별과 시\n",
      "- 서시\n",
      "- 자화상\n",
      "- 소년\n",
      "- 눈 오는 지도\n",
      "- 돌아와 보는 밤\n",
      "- 병원\n",
      "- 새로운 길\n",
      "- 간판 없는 거리\n",
      "- 태초의 아침\n",
      "- 또 태초의 아침\n",
      "- 새벽이 올 때까지\n",
      "- 무서운 시간\n",
      "- 십자가\n",
      "- 바람이 불어\n",
      "- 슬픈 족속\n",
      "- 눈감고 간다\n",
      "- 또 다른 고향\n",
      "- 길\n",
      "- 별 헤는 밤\n",
      "- 흰 그림자\n",
      "- 사랑스런 추억\n",
      "- 흐르는 거리\n",
      "- 쉽게 씌어진 시\n",
      "- 봄\n",
      "- 참회록\n",
      "- 간(肝)\n",
      "- 위로\n",
      "- 팔복\n",
      "- 못자는밤\n",
      "- 달같이\n",
      "- 고추밭\n",
      "- 아우의 인상화\n",
      "- 사랑의 전당\n",
      "- 이적\n",
      "- 비오는 밤\n",
      "- 산골물\n",
      "- 유언\n",
      "- 창\n",
      "- 바다\n",
      "- 비로봉\n",
      "- 산협의 오후\n",
      "- 명상\n",
      "- 소낙비\n",
      "- 한난계\n",
      "- 풍경\n",
      "- 달밤\n",
      "- 장\n",
      "- 밤\n",
      "- 황혼이 바다가 되어\n",
      "- 아침\n",
      "- 빨래\n",
      "- 꿈은 깨어지고\n",
      "- 산림\n",
      "- 이런날\n",
      "- 산상\n",
      "- 양지쪽\n",
      "- 닭\n",
      "- 가슴 1\n",
      "- 가슴 2\n",
      "- 비둘기\n",
      "- 황혼\n",
      "- 남쪽 하늘\n",
      "- 창공\n",
      "- 거리에서\n",
      "- 삶과 죽음\n",
      "- 초한대\n",
      "- 산울림\n",
      "- 해바라기 얼굴\n",
      "- 귀뚜라미와 나와\n",
      "- 애기의 새벽\n",
      "- 햇빛·바람\n",
      "- 반디불\n",
      "- 둘 다\n",
      "- 거짓부리\n",
      "- 눈\n",
      "- 참새\n",
      "- 버선본\n",
      "- 편지\n",
      "- 봄\n",
      "- 무얼 먹구 사나\n",
      "- 굴뚝\n",
      "- 햇비\n",
      "- 빗자루\n",
      "- 기왓장 내외\n",
      "- 오줌싸개 지도\n",
      "- 병아리\n",
      "- 조개껍질\n",
      "- 겨울\n",
      "- 트루게네프의 언덕\n",
      "- 달을 쏘다\n",
      "- 별똥 떨어진 데\n",
      "- 화원에 꽃이 핀다\n",
      "- 종시\n"
     ]
    }
   ],
   "source": [
    "# mw-content-text > div.mw-parser-output > ul:nth-child(6) > li > b > a\n",
    "from bs4 import BeautifulSoup\n",
    "import urllib.request as req\n",
    "\n",
    "url = \"https://ko.wikisource.org/wiki/%EC%A0%80%EC%9E%90:%EC%9C%A4%EB%8F%99%EC%A3%BC\"\n",
    "res = req.urlopen(url)\n",
    "soup = BeautifulSoup(res, \"html.parser\")\n",
    "\n",
    "# bold 체를 빼버리면 마지막 a태그가 자식이 아니라 후손 태그가 되어버려서 한 칸 떨어뜨려놓아야함!\n",
    "a_list = soup.select(\"#mw-content-text > div.mw-parser-output > ul > li a\")\n",
    "# print(a_list)\n",
    "\n",
    "for a in a_list:\n",
    "    if a.string == \"증보판\":\n",
    "        continue\n",
    "    print(\"-\", a.string)"
   ]
  },
  {
   "cell_type": "markdown",
   "id": "ca4912b7",
   "metadata": {},
   "source": [
    "# 다음 영화 연간 순위 가져오기"
   ]
  },
  {
   "cell_type": "code",
   "execution_count": 167,
   "id": "593872c2",
   "metadata": {},
   "outputs": [
    {
     "name": "stdout",
     "output_type": "stream",
     "text": [
      " 1 : 남산의 부장들\n",
      " 2 : 다만 악에서 구하소서\n",
      " 3 : 반도\n",
      " 4 : 히트맨\n",
      " 5 : 테넷\n",
      " 6 : 백두산\n",
      " 7 : #살아있다\n",
      " 8 : 강철비2: 정상회담\n",
      " 9 : 담보\n",
      "10 : 닥터 두리틀\n",
      "11 : 삼진그룹 영어토익반\n",
      "12 : 정직한 후보\n",
      "13 : 도굴\n",
      "14 : 클로젯\n",
      "15 : 오케이 마담\n",
      "16 : 해치지않아\n",
      "17 : 천문: 하늘에 묻는다\n",
      "18 : 결백\n",
      "19 : 1917\n",
      "20 : 작은 아씨들\n",
      "21 : 미드웨이\n",
      "22 : 시동\n",
      "23 : 지푸라기라도 잡고 싶은 짐승들\n",
      "24 : 미스터 주: 사라진 VIP\n",
      "25 : 인비저블맨\n",
      "26 : 나쁜 녀석들: 포에버\n",
      "27 : 국제수사\n",
      "28 : 침입자\n",
      "29 : 스타워즈: 라이즈 오브 스카이워커\n",
      "30 : 스파이 지니어스 \n",
      "31 : 이웃사촌\n",
      "32 : 온워드: 단 하루의 기적\n",
      "33 : 소리도 없이\n",
      "34 : 버즈 오브 프레이(할리 퀸의 황홀한 해방)\n",
      "35 : 원더 우먼 1984\n",
      "36 : 겨울왕국 2\n",
      "37 : 오! 문희\n",
      "38 : 그린랜드\n",
      "39 : 위대한 쇼맨\n",
      "40 : 런\n",
      "41 : 뮬란\n",
      "42 : 내가 죽던 날\n",
      "43 : 기생충\n",
      "44 : 신비아파트 극장판 하늘도깨비 대 요르문간드\n",
      "45 : 프리즌 이스케이프\n",
      "46 : 검객\n",
      "47 : 조제\n",
      "48 : 사라진 시간\n",
      "49 : 밤쉘: 세상을 바꾼 폭탄선언\n",
      "50 : 알라딘\n"
     ]
    }
   ],
   "source": [
    "# https://movie.daum.net/boxoffice/yearly?year=2021\n",
    "#mainContent > div > div.box_boxoffice > ol > li:nth-child(1) > div > div.thumb_cont > strong > a\n",
    "from bs4 import BeautifulSoup\n",
    "import urllib.request as req\n",
    "\n",
    "url = \"https://movie.daum.net/boxoffice/yearly?year=2021\"\n",
    "res = req.urlopen(url)\n",
    "soup = BeautifulSoup(res, \"html.parser\")\n",
    "\n",
    "movie_list = soup.select(\"#mainContent > div > div.box_boxoffice > ol > li > div > div.thumb_cont > strong > a\")\n",
    "# print(movie_list)\n",
    "\n",
    "for i in range(0,len(movie_list)):\n",
    "    movie1 = movie_list[i].string\n",
    "    print('%2d' %(i+1) , ':', movie1)"
   ]
  },
  {
   "cell_type": "code",
   "execution_count": 174,
   "id": "decd5c99",
   "metadata": {},
   "outputs": [
    {
     "name": "stdout",
     "output_type": "stream",
     "text": [
      " 1 : 남산의 부장들\n",
      " 2 : 다만 악에서 구하소서\n",
      " 3 : 반도\n",
      " 4 : 히트맨\n",
      " 5 : 테넷\n",
      " 6 : 백두산\n",
      " 7 : #살아있다\n",
      " 8 : 강철비2: 정상회담\n",
      " 9 : 담보\n",
      "10 : 닥터 두리틀\n",
      "11 : 삼진그룹 영어토익반\n",
      "12 : 정직한 후보\n",
      "13 : 도굴\n",
      "14 : 클로젯\n",
      "15 : 오케이 마담\n",
      "16 : 해치지않아\n",
      "17 : 천문: 하늘에 묻는다\n",
      "18 : 결백\n",
      "19 : 1917\n",
      "20 : 작은 아씨들\n",
      "21 : 미드웨이\n",
      "22 : 시동\n",
      "23 : 지푸라기라도 잡고 싶은 짐승들\n",
      "24 : 미스터 주: 사라진 VIP\n",
      "25 : 인비저블맨\n",
      "26 : 나쁜 녀석들: 포에버\n",
      "27 : 국제수사\n",
      "28 : 침입자\n",
      "29 : 스타워즈: 라이즈 오브 스카이워커\n",
      "30 : 스파이 지니어스 \n",
      "31 : 이웃사촌\n",
      "32 : 온워드: 단 하루의 기적\n",
      "33 : 소리도 없이\n",
      "34 : 버즈 오브 프레이(할리 퀸의 황홀한 해방)\n",
      "35 : 원더 우먼 1984\n",
      "36 : 겨울왕국 2\n",
      "37 : 오! 문희\n",
      "38 : 그린랜드\n",
      "39 : 위대한 쇼맨\n",
      "40 : 런\n",
      "41 : 뮬란\n",
      "42 : 내가 죽던 날\n",
      "43 : 기생충\n",
      "44 : 신비아파트 극장판 하늘도깨비 대 요르문간드\n",
      "45 : 프리즌 이스케이프\n",
      "46 : 검객\n",
      "47 : 조제\n",
      "48 : 사라진 시간\n",
      "49 : 밤쉘: 세상을 바꾼 폭탄선언\n",
      "50 : 알라딘\n"
     ]
    }
   ],
   "source": [
    "j = 1\n",
    "for i in movie_list:\n",
    "    print('%2d'%j, \":\", i.string)\n",
    "    j += 1"
   ]
  },
  {
   "cell_type": "code",
   "execution_count": 178,
   "id": "f8bc1f86",
   "metadata": {},
   "outputs": [
    {
     "name": "stdout",
     "output_type": "stream",
     "text": [
      " 1 : 남산의 부장들\n",
      " 2 : 다만 악에서 구하소서\n",
      " 3 : 반도\n",
      " 4 : 히트맨\n",
      " 5 : 테넷\n",
      " 6 : 백두산\n",
      " 7 : #살아있다\n",
      " 8 : 강철비2: 정상회담\n",
      " 9 : 담보\n",
      "10 : 닥터 두리틀\n",
      "11 : 삼진그룹 영어토익반\n",
      "12 : 정직한 후보\n",
      "13 : 도굴\n",
      "14 : 클로젯\n",
      "15 : 오케이 마담\n",
      "16 : 해치지않아\n",
      "17 : 천문: 하늘에 묻는다\n",
      "18 : 결백\n",
      "19 : 1917\n",
      "20 : 작은 아씨들\n",
      "21 : 미드웨이\n",
      "22 : 시동\n",
      "23 : 지푸라기라도 잡고 싶은 짐승들\n",
      "24 : 미스터 주: 사라진 VIP\n",
      "25 : 인비저블맨\n",
      "26 : 나쁜 녀석들: 포에버\n",
      "27 : 국제수사\n",
      "28 : 침입자\n",
      "29 : 스타워즈: 라이즈 오브 스카이워커\n",
      "30 : 스파이 지니어스 \n",
      "31 : 이웃사촌\n",
      "32 : 온워드: 단 하루의 기적\n",
      "33 : 소리도 없이\n",
      "34 : 버즈 오브 프레이(할리 퀸의 황홀한 해방)\n",
      "35 : 원더 우먼 1984\n",
      "36 : 겨울왕국 2\n",
      "37 : 오! 문희\n",
      "38 : 그린랜드\n",
      "39 : 위대한 쇼맨\n",
      "40 : 런\n",
      "41 : 뮬란\n",
      "42 : 내가 죽던 날\n",
      "43 : 기생충\n",
      "44 : 신비아파트 극장판 하늘도깨비 대 요르문간드\n",
      "45 : 프리즌 이스케이프\n",
      "46 : 검객\n",
      "47 : 조제\n",
      "48 : 사라진 시간\n",
      "49 : 밤쉘: 세상을 바꾼 폭탄선언\n",
      "50 : 알라딘\n"
     ]
    }
   ],
   "source": [
    "movie_list = soup.select(\"strong a\")\n",
    "\n",
    "for i in range(0,len(movie_list)):\n",
    "    movie1 = movie_list[i].string\n",
    "    print('%2d' %(i+1) , ':', movie1)"
   ]
  },
  {
   "cell_type": "markdown",
   "id": "5e0925da",
   "metadata": {},
   "source": [
    "# 다음 IT News 많이 본 뉴스"
   ]
  },
  {
   "cell_type": "code",
   "execution_count": 226,
   "id": "cc3db2c0",
   "metadata": {},
   "outputs": [
    {
     "name": "stdout",
     "output_type": "stream",
     "text": [
      "https://v.daum.net/v/20210713140143407 : 이재명, 긴급 기자회견..\"4차 팬데믹 못막으면 전면봉쇄 불가피\"\n",
      "https://v.daum.net/v/20210713144711324 : \"일출 보려다 물어뜯길 뻔\"..성산일출봉까지 점령한 야생들개\n",
      "https://v.daum.net/v/20210713124446148 : \"누나가 무슨 부모야\" 친누나 30차례 찔러 살해한 남동생.. 무기징역 구형\n",
      "https://v.daum.net/v/20210713132549158 : BJ철구, 7살딸과 '여캠BJ 새엄마 월드컵'..아동학대 논란\n",
      "https://v.daum.net/v/20210713144622300 : \"확진자인데 와서 미안\" 농담에 카페 영업중단..업무방해 무죄\n",
      "https://v.daum.net/v/20210713133842565 : 정은경 '靑 방역기획관에 밀렸나' 질문에 \"소신껏 하고 있다\" 일축\n",
      "https://v.daum.net/v/20210713114057051 : \"술집 못가니 호텔 가자\" 60대 유명화가, 20대 성폭행 의혹\n",
      "https://v.daum.net/v/20210713113441712 : 우리은행 본점서 코로나19 집단감염..\"발설 시 엄벌\"\n",
      "https://v.daum.net/v/20210713113230612 : 홍남기, 전국민 지원금 합의에 \"동의 안한다\"..여당과 충돌\n",
      "https://v.daum.net/v/20210713150601168 : \"철학 붕괴\" 윤희숙 연일 이준석 비판..하태경 \"자해정치\"\n",
      "https://v.daum.net/v/20210713144944406 : 중등교원 양성 규모 축소..사범대 나와야 국영수 교사된다\n",
      "https://v.daum.net/v/20210713135902248 : \"이 시국에 떼창?\" 팬들 반발에..백기 든 '미스터트롯' 공연\n",
      "https://v.daum.net/v/20210713143600846 : 청와대 앞에 착륙한 미끼 전투기, 힘을 보여주고 싶었다\n",
      "https://v.daum.net/v/20210713115724852 : \"한국인 DNA에 표현력 없다\" 바이올린 거장 주커만 인종차별\n",
      "https://v.daum.net/v/20210713120602280 : 습도 높으면 35도서도 치명타..습한 한국 여름 무서운 이유\n",
      "https://v.daum.net/v/20210713133106300 : '천조국 최종병기' 대륙간탄도미사일 미니트맨 Ⅲ\n",
      "https://v.daum.net/v/20210713115624812 : 무려 60년간 조용하던 쿠바인들은 왜 들고 일어났나\n",
      "https://v.daum.net/v/20210713125407426 : 짧고 굵은 장마 19일까지..20일부터 강한 폭염 온다\n",
      "https://v.daum.net/v/20210713131902974 : \"돼지코 같다\" 싸늘한 반응..BMW 4시리즈 참혹한 결과\n",
      "https://v.daum.net/v/20210713133325380 : 예고 없이 잡힌 미스터트롯 전주 콘서트, 잇단 항의에 취소\n",
      "https://v.daum.net/v/20210713111827741 : \"살려주세요\" 외침에 바로 '풍덩'..초등생 3명 잇따라 구한 40대\n",
      "https://v.daum.net/v/20210713142508329 : 부산도 위태롭다..유흥시설 넘어 식당·학교 등 전방위 확산\n",
      "https://v.daum.net/v/20210713151947679 : 전여옥, 위기의 이준석에 \"뒤에서 칼꽂는 게 정치..성인식 치러\"\n",
      "https://v.daum.net/v/20210713141248818 : \"제가 가르쳤고 믿고 있는..\" 조국, 아내 정경심 징역 7년 구형에 '무죄 추정' 대법 판결 공유\n",
      "https://v.daum.net/v/20210713131915980 : \"4000모 이식한거 맞아?\"..모발 이식 사진은 의료기록인가, 아닌가\n",
      "https://v.daum.net/v/20210713115700827 : \"내년 하반기 미 금융시장 대폭락 온다\"\n",
      "https://v.daum.net/v/20210713140105375 : 연인 관계 2/3, 친구서 발전\n",
      "https://v.daum.net/v/20210713140846683 : 중·고교 교사 양성 규모 축소한다..사범대 안나오면 국영수 교사 되기 어려워\n",
      "https://v.daum.net/v/20210713132558167 : 정은경, 55~59세 예약 중단에 \"안내 못드려 송구..충분히 접종 가능\"\n",
      "https://v.daum.net/v/20210713151603547 : 양어장을 탈출한 송어는 뇌가 커진다\n"
     ]
    }
   ],
   "source": [
    "# https://media.daum.net/digital/\n",
    "#mAside > div.aside_g.aside_ranking > ul > li.on > div > ol:nth-child(2) > li:nth-child(1) > strong > a\n",
    "#mAside > div.aside_g.aside_ranking > ul > li.on > div > ol:nth-child(3) > li:nth-child(1) > strong > a\n",
    "#mAside > div.aside_g.aside_ranking > ul > li.on > div > ol:nth-child(2) > li:nth-child(1) > strong > a\n",
    "from bs4 import BeautifulSoup\n",
    "import urllib.request as req\n",
    "\n",
    "url = \"https://media.daum.net/digital/\"\n",
    "res = req.urlopen(url)\n",
    "soup = BeautifulSoup(res, \"html.parser\")\n",
    "\n",
    "#news_list = soup.select(\"#mAside > div.aside_g.aside_ranking > ul > li.on > div > ol > li > strong > a\")\n",
    "#news_list = soup.select(\"div.aside_g.aside_ranking a.link_txt\")\n",
    "#news_list = soup.select(\"div.aside_g.aside_ranking strong a\")\n",
    "news_list = soup.select(\"div.aside_g.aside_ranking .on .tit_g a\")\n",
    "\n",
    "# print(news_list)\n",
    "\n",
    "for news in news_list:\n",
    "    text = news.string\n",
    "    link = news.attrs['href']\n",
    "    print(link, ':', text.strip())"
   ]
  },
  {
   "cell_type": "code",
   "execution_count": null,
   "id": "46fce15e",
   "metadata": {},
   "outputs": [],
   "source": []
  },
  {
   "cell_type": "code",
   "execution_count": null,
   "id": "33b2ce80",
   "metadata": {},
   "outputs": [],
   "source": []
  }
 ],
 "metadata": {
  "kernelspec": {
   "display_name": "Python 3",
   "language": "python",
   "name": "python3"
  },
  "language_info": {
   "codemirror_mode": {
    "name": "ipython",
    "version": 3
   },
   "file_extension": ".py",
   "mimetype": "text/x-python",
   "name": "python",
   "nbconvert_exporter": "python",
   "pygments_lexer": "ipython3",
   "version": "3.8.8"
  }
 },
 "nbformat": 4,
 "nbformat_minor": 5
}
