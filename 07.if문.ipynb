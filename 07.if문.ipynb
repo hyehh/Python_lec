{
 "cells": [
  {
   "cell_type": "code",
   "execution_count": 1,
   "id": "058fb697",
   "metadata": {},
   "outputs": [],
   "source": [
    "# random 중에 randint 만 사용하겠다\n",
    "from random import randint"
   ]
  },
  {
   "cell_type": "code",
   "execution_count": 2,
   "id": "eae924aa",
   "metadata": {},
   "outputs": [
    {
     "name": "stdout",
     "output_type": "stream",
     "text": [
      "----end----\n"
     ]
    }
   ],
   "source": [
    "# if\n",
    "x = randint(1, 100)\n",
    "if x > 50 :\n",
    "    print(str(x), \"is greater than 50\")\n",
    "    \n",
    "print(\"----end----\")\n",
    "# 한 줄 띄고 사용하기 (버그 걸릴 수 있음)"
   ]
  },
  {
   "cell_type": "code",
   "execution_count": 3,
   "id": "7ef8c81d",
   "metadata": {},
   "outputs": [
    {
     "name": "stdout",
     "output_type": "stream",
     "text": [
      "45 is less or equal to 50\n",
      "----end----\n"
     ]
    }
   ],
   "source": [
    "# if else\n",
    "x = randint(1, 100)\n",
    "\n",
    "if x > 50 : \n",
    "    print(str(x), \"is greater than 50\")\n",
    "else : \n",
    "    print(str(x), \"is less or equal to 50\")\n",
    "    \n",
    "print(\"----end----\")"
   ]
  },
  {
   "cell_type": "code",
   "execution_count": 4,
   "id": "e65e4fea",
   "metadata": {},
   "outputs": [
    {
     "name": "stdout",
     "output_type": "stream",
     "text": [
      "25 is less than 50\n",
      "----end----\n"
     ]
    }
   ],
   "source": [
    "# if elif else\n",
    "x = randint(1, 100)\n",
    "\n",
    "if x > 50 : \n",
    "    print(str(x), \"is greater than 50\")\n",
    "elif x == 50 : \n",
    "    print(str(x), \"is equal to 50\")\n",
    "else :\n",
    "    print(str(x), \"is less than 50\")\n",
    "    \n",
    "print(\"----end----\")"
   ]
  },
  {
   "cell_type": "code",
   "execution_count": 5,
   "id": "a31e51e0",
   "metadata": {},
   "outputs": [
    {
     "name": "stdout",
     "output_type": "stream",
     "text": [
      "숫자를 입력하세요12\n"
     ]
    },
    {
     "data": {
      "text/plain": [
       "12"
      ]
     },
     "execution_count": 5,
     "metadata": {},
     "output_type": "execute_result"
    }
   ],
   "source": [
    "int(input(\"숫자를 입력하세요\"))"
   ]
  },
  {
   "cell_type": "code",
   "execution_count": 6,
   "id": "37e6529d",
   "metadata": {},
   "outputs": [
    {
     "name": "stdout",
     "output_type": "stream",
     "text": [
      "숫자를 입력하세요12\n"
     ]
    },
    {
     "data": {
      "text/plain": [
       "int"
      ]
     },
     "execution_count": 6,
     "metadata": {},
     "output_type": "execute_result"
    }
   ],
   "source": [
    "type(int(input(\"숫자를 입력하세요\")))"
   ]
  },
  {
   "cell_type": "code",
   "execution_count": 7,
   "id": "e2593ef8",
   "metadata": {},
   "outputs": [
    {
     "name": "stdout",
     "output_type": "stream",
     "text": [
      "숫자를 입력하세요12\n",
      "12 값은 짝수 입니다!\n"
     ]
    }
   ],
   "source": [
    "# 사용자로부터 숫자를 입력받아 홀짝 수 구분\n",
    "# 예 : 23은 홀수 입니다.\n",
    "x = int(input(\"숫자를 입력하세요\"))\n",
    "\n",
    "if x % 2 == 1 :\n",
    "    print(x, \"값은 홀수 입니다!\")\n",
    "else : \n",
    "    print(x, \"값은 짝수 입니다!\")"
   ]
  },
  {
   "cell_type": "code",
   "execution_count": 8,
   "id": "e5783336",
   "metadata": {},
   "outputs": [
    {
     "name": "stdout",
     "output_type": "stream",
     "text": [
      "점수를 입력하세요45\n",
      "점수는 45점이고 F학점 입니다.\n"
     ]
    }
   ],
   "source": [
    "# 사용자로부터 점수를 입력받아 학점 등급을 계산하여 출력하기\n",
    "# 예 : 점수는 89점이고 B학점 입니다.\n",
    "x = int(input(\"점수를 입력하세요\"))\n",
    "\n",
    "if x >= 90 :\n",
    "    print(\"점수는 \" + str(x) + \"점이고 A학점 입니다.\")\n",
    "elif x >= 80 :\n",
    "    print(\"점수는 \" + str(x) + \"점이고 B학점 입니다.\")\n",
    "elif x >= 70 :\n",
    "    print(\"점수는 \" + str(x) + \"점이고 C학점 입니다.\")\n",
    "elif x >= 60 :\n",
    "    print(\"점수는 \" + str(x) + \"점이고 D학점 입니다.\")\n",
    "elif x >= 50 :\n",
    "    print(\"점수는 \" + str(x) + \"점이고 E학점 입니다.\")\n",
    "else :\n",
    "    print(\"점수는 \" + str(x) + \"점이고 F학점 입니다.\")"
   ]
  },
  {
   "cell_type": "code",
   "execution_count": 9,
   "id": "a37efad5",
   "metadata": {},
   "outputs": [
    {
     "name": "stdout",
     "output_type": "stream",
     "text": [
      "점수를 입력하세요100\n",
      "점수는 100점이고 A 학점 입니다\n"
     ]
    }
   ],
   "source": [
    "x = int(input(\"점수를 입력하세요\"))\n",
    "\n",
    "print(\"점수는 \" + str(x) + \"점이고 \", end = \"\")\n",
    "if x >= 90 :\n",
    "    print( \"A\", end=\"\")\n",
    "elif x>=80 :\n",
    "    print( \"B\", end=\"\")\n",
    "elif x>=70 :\n",
    "    print( \"C\", end=\"\")\n",
    "elif x>=60 :\n",
    "    print( \"D\", end=\"\")\n",
    "else :\n",
    "    print( \"F\", end=\"\")\n",
    "print(\" 학점 입니다\")"
   ]
  },
  {
   "cell_type": "code",
   "execution_count": 16,
   "id": "44e67976",
   "metadata": {},
   "outputs": [
    {
     "name": "stdout",
     "output_type": "stream",
     "text": [
      "튼튼한 다리 사용!\n"
     ]
    }
   ],
   "source": [
    "pocket = ['paper', 'smartphone']\n",
    "# 0만 False, 그 외 나머지 숫자 True (파이썬에서 0은 False : 데이터 없음을 의미)\n",
    "card = 0\n",
    "\n",
    "if 'money' in pocket:\n",
    "    print(\"현금으로 택시 타기\")\n",
    "# 카드는 있냐?!\n",
    "elif card:\n",
    "    print(\"신용카드로 택시 타기\")\n",
    "else:\n",
    "    print(\"튼튼한 다리 사용!\")"
   ]
  },
  {
   "cell_type": "code",
   "execution_count": 18,
   "id": "23492283",
   "metadata": {},
   "outputs": [
    {
     "name": "stdout",
     "output_type": "stream",
     "text": [
      "신용카드로 택시 타기\n"
     ]
    }
   ],
   "source": [
    "pocket = ['paper', 'smartphone']\n",
    "card = -1\n",
    "\n",
    "if 'money' in pocket:\n",
    "    print(\"현금으로 택시 타기\")\n",
    "# 카드는 있냐?!\n",
    "elif card:\n",
    "    print(\"신용카드로 택시 타기\")\n",
    "else:\n",
    "    print(\"튼튼한 다리 사용!\")"
   ]
  },
  {
   "cell_type": "code",
   "execution_count": null,
   "id": "003643b4",
   "metadata": {},
   "outputs": [],
   "source": []
  }
 ],
 "metadata": {
  "kernelspec": {
   "display_name": "Python 3",
   "language": "python",
   "name": "python3"
  },
  "language_info": {
   "codemirror_mode": {
    "name": "ipython",
    "version": 3
   },
   "file_extension": ".py",
   "mimetype": "text/x-python",
   "name": "python",
   "nbconvert_exporter": "python",
   "pygments_lexer": "ipython3",
   "version": "3.8.8"
  }
 },
 "nbformat": 4,
 "nbformat_minor": 5
}
