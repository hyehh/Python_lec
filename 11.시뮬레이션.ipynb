{
 "cells": [
  {
   "cell_type": "markdown",
   "id": "d1b642ed",
   "metadata": {},
   "source": [
    "# 몬테카를로 시뮬레이션\n",
    ": 자료가 없을 경우 난수를 통해서 가설 증명"
   ]
  },
  {
   "cell_type": "markdown",
   "id": "1f1d2ede",
   "metadata": {},
   "source": [
    "## 동전의 앞면과 뒷면이 나올 확률이 같다는 것을 증명"
   ]
  },
  {
   "cell_type": "code",
   "execution_count": 1,
   "id": "2e18f6f6",
   "metadata": {},
   "outputs": [],
   "source": [
    "# 모듈 불러오기\n",
    "import random"
   ]
  },
  {
   "cell_type": "code",
   "execution_count": 3,
   "id": "9ad5929d",
   "metadata": {},
   "outputs": [
    {
     "data": {
      "text/plain": [
       "5"
      ]
     },
     "execution_count": 3,
     "metadata": {},
     "output_type": "execute_result"
    }
   ],
   "source": [
    "random.randint(1, 10)"
   ]
  },
  {
   "cell_type": "code",
   "execution_count": 9,
   "id": "325cd018",
   "metadata": {},
   "outputs": [
    {
     "name": "stdout",
     "output_type": "stream",
     "text": [
      "뒷면\n"
     ]
    }
   ],
   "source": [
    "# 난수를 통한 방법\n",
    "x = random.randint(1, 2)\n",
    "if x == 1:\n",
    "    result = \"앞면\"\n",
    "else:\n",
    "    result = \"뒷면\"\n",
    "\n",
    "print(result)"
   ]
  },
  {
   "cell_type": "code",
   "execution_count": 12,
   "id": "edc04e0f",
   "metadata": {},
   "outputs": [],
   "source": [
    "def coinF(n):\n",
    "    # 초기화 (앞면과 뒷면의 값 0으로 초기화)\n",
    "    coinFront = coinRear = 0\n",
    "    for i in range(1, n+1):\n",
    "        x = random.randint(1, 2)\n",
    "        if x == 1:\n",
    "            coinFront += 1\n",
    "        else:\n",
    "            coinRear += 1\n",
    "    \n",
    "    print('%7d번 시도 시, 동전의 앞면은 %6d번이고 동전의 뒷면은 %6d번 입니다.' %(n, coinFront, coinRear))"
   ]
  },
  {
   "cell_type": "code",
   "execution_count": 13,
   "id": "59bf5436",
   "metadata": {},
   "outputs": [
    {
     "name": "stdout",
     "output_type": "stream",
     "text": [
      "     10번 시도 시, 동전의 앞면은      5번이고 동전의 뒷면은      5번 입니다.\n",
      "    100번 시도 시, 동전의 앞면은     49번이고 동전의 뒷면은     51번 입니다.\n",
      "   1000번 시도 시, 동전의 앞면은    516번이고 동전의 뒷면은    484번 입니다.\n",
      "  10000번 시도 시, 동전의 앞면은   5058번이고 동전의 뒷면은   4942번 입니다.\n",
      " 100000번 시도 시, 동전의 앞면은  50365번이고 동전의 뒷면은  49635번 입니다.\n",
      "1000000번 시도 시, 동전의 앞면은 499462번이고 동전의 뒷면은 500538번 입니다.\n"
     ]
    }
   ],
   "source": [
    "coinF(10)\n",
    "coinF(100)\n",
    "coinF(1000)\n",
    "coinF(10000)\n",
    "coinF(100000)\n",
    "coinF(1000000)"
   ]
  },
  {
   "cell_type": "code",
   "execution_count": 29,
   "id": "9bbecff3",
   "metadata": {},
   "outputs": [],
   "source": [
    "# 가위, 바위, 보 게임이 이길 확률이 같다는 것을 증명\n",
    "# 가위가 이긴다, 바위가 이긴다, 보가 이긴다\n",
    "def rock(n):\n",
    "    rock = scissor = paper = 0\n",
    "    for i in range(1, n+1):\n",
    "        x = random.randint(1, 3)\n",
    "        # 1 : 가위가 이길 경우, 2 : 바위가 이길 경우, 3 : 보가 이길 경우\n",
    "        if x == 1:\n",
    "            rock += 1\n",
    "        elif x == 2:\n",
    "            scissor += 1\n",
    "        else:\n",
    "            paper += 1\n",
    "            \n",
    "    print('%7d번 시도 시, 가위가 이길 확률은 %6d번이고 바위가 이길 확률은 %6d번이고 보가 이길 확률은 %6d번 입니다.' %(n, rock, scissor, paper))"
   ]
  },
  {
   "cell_type": "code",
   "execution_count": 30,
   "id": "8d5a6d1f",
   "metadata": {},
   "outputs": [
    {
     "name": "stdout",
     "output_type": "stream",
     "text": [
      "     10번 시도 시, 가위가 이길 확률은      4번이고 바위가 이길 확률은      2번이고 보가 이길 확률은      4번 입니다.\n",
      "    100번 시도 시, 가위가 이길 확률은     41번이고 바위가 이길 확률은     26번이고 보가 이길 확률은     33번 입니다.\n",
      "   1000번 시도 시, 가위가 이길 확률은    333번이고 바위가 이길 확률은    332번이고 보가 이길 확률은    335번 입니다.\n",
      "  10000번 시도 시, 가위가 이길 확률은   3299번이고 바위가 이길 확률은   3405번이고 보가 이길 확률은   3296번 입니다.\n",
      " 100000번 시도 시, 가위가 이길 확률은  33571번이고 바위가 이길 확률은  33044번이고 보가 이길 확률은  33385번 입니다.\n",
      "1000000번 시도 시, 가위가 이길 확률은 333999번이고 바위가 이길 확률은 333134번이고 보가 이길 확률은 332867번 입니다.\n"
     ]
    }
   ],
   "source": [
    "rock(10)\n",
    "rock(100)\n",
    "rock(1000)\n",
    "rock(10000)\n",
    "rock(100000)\n",
    "rock(1000000)"
   ]
  },
  {
   "cell_type": "code",
   "execution_count": null,
   "id": "780d6c77",
   "metadata": {},
   "outputs": [],
   "source": []
  }
 ],
 "metadata": {
  "kernelspec": {
   "display_name": "Python 3",
   "language": "python",
   "name": "python3"
  },
  "language_info": {
   "codemirror_mode": {
    "name": "ipython",
    "version": 3
   },
   "file_extension": ".py",
   "mimetype": "text/x-python",
   "name": "python",
   "nbconvert_exporter": "python",
   "pygments_lexer": "ipython3",
   "version": "3.8.8"
  }
 },
 "nbformat": 4,
 "nbformat_minor": 5
}
