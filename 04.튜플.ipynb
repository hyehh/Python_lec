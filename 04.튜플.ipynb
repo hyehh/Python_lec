{
 "cells": [
  {
   "cell_type": "markdown",
   "id": "90d260e0",
   "metadata": {},
   "source": [
    "# 튜플(Tuple) 자료형\n",
    ": Tuple은 다음과 같은 점을 제외하고 리스트와 거의 비슷하다.   \n",
    "- (,)로 사용\n",
    "- 리스트는 그 값을 생성, 삭제, 수정이 가능하지만 튜플은 값을 바꿀 수 없다.\n",
    "- 데이터 생성, 삭제, 수정 안할거면 튜플 쓰는 게 퍼포먼스적으로 좋음\n",
    "- 튜플은 데이터 분석할 때는 잘 안쓰고, 함수 만들 때 많이 사용"
   ]
  },
  {
   "cell_type": "code",
   "execution_count": 6,
   "id": "7a3a6b88",
   "metadata": {},
   "outputs": [
    {
     "name": "stdout",
     "output_type": "stream",
     "text": [
      "()\n",
      "1\n",
      "(1, 2, 3)\n",
      "(1, 2, 3)\n",
      "('a', 'b', ('ab', 'cd'))\n"
     ]
    }
   ],
   "source": [
    "# 튜플의 선언 [] 가 아닌 () 로 사용\n",
    "var01 = ()\n",
    "var02 = (1)\n",
    "var03 = (1,2,3)\n",
    "var04 = 1,2,3\n",
    "var05 = ('a', 'b', ('ab', 'cd'))\n",
    "print(var01)\n",
    "print(var02)\n",
    "print(var03)\n",
    "print(var04)\n",
    "print(var05)"
   ]
  },
  {
   "cell_type": "code",
   "execution_count": 7,
   "id": "61ce642c",
   "metadata": {},
   "outputs": [
    {
     "name": "stdout",
     "output_type": "stream",
     "text": [
      "1\n"
     ]
    }
   ],
   "source": [
    "# Indexing과 Slicing은 리스트와 동일\n",
    "print(var03[0])"
   ]
  },
  {
   "cell_type": "code",
   "execution_count": 11,
   "id": "389a1842",
   "metadata": {},
   "outputs": [
    {
     "name": "stdout",
     "output_type": "stream",
     "text": [
      "1\n",
      "2\n"
     ]
    }
   ],
   "source": [
    "a,b = (1,2)\n",
    "print(a)\n",
    "print(b)"
   ]
  },
  {
   "cell_type": "code",
   "execution_count": null,
   "id": "cf2d787c",
   "metadata": {},
   "outputs": [],
   "source": []
  }
 ],
 "metadata": {
  "kernelspec": {
   "display_name": "Python 3",
   "language": "python",
   "name": "python3"
  },
  "language_info": {
   "codemirror_mode": {
    "name": "ipython",
    "version": 3
   },
   "file_extension": ".py",
   "mimetype": "text/x-python",
   "name": "python",
   "nbconvert_exporter": "python",
   "pygments_lexer": "ipython3",
   "version": "3.8.8"
  }
 },
 "nbformat": 4,
 "nbformat_minor": 5
}
