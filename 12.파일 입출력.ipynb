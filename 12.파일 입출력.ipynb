{
 "cells": [
  {
   "cell_type": "markdown",
   "id": "87dd4762",
   "metadata": {},
   "source": [
    "# 파일 읽고 쓰기\n",
    "- 파일 객체를 열 때 : open(파일 이름, 파일 열기 모드)\n",
    "- 파일 열기 모드 : r(읽기 모드), w(쓰기 모드), a(추가 모드 : append), rw(읽고 쓰기 모드)"
   ]
  },
  {
   "cell_type": "code",
   "execution_count": 2,
   "id": "f6f1f058",
   "metadata": {},
   "outputs": [],
   "source": [
    "# 파일을 쓰기 모드로 열어 출력값 저장하기\n",
    "\n",
    "f = open(\"./Data/new.txt\", \"w\")\n",
    "for i in range(1, 11):\n",
    "    data = \"%d번째 줄 입니다.\\n\"%i\n",
    "    f.write(data)\n",
    "# close 안쓰면 복잡해짐!\n",
    "f.close()"
   ]
  },
  {
   "cell_type": "code",
   "execution_count": 3,
   "id": "e2caece1",
   "metadata": {},
   "outputs": [
    {
     "name": "stdout",
     "output_type": "stream",
     "text": [
      "1번째 줄 입니다.\n",
      "\n",
      "2번째 줄 입니다.\n",
      "\n",
      "3번째 줄 입니다.\n",
      "\n",
      "4번째 줄 입니다.\n",
      "\n",
      "5번째 줄 입니다.\n",
      "\n",
      "6번째 줄 입니다.\n",
      "\n",
      "7번째 줄 입니다.\n",
      "\n",
      "8번째 줄 입니다.\n",
      "\n",
      "9번째 줄 입니다.\n",
      "\n",
      "10번째 줄 입니다.\n",
      "\n"
     ]
    }
   ],
   "source": [
    "# 파일 읽기모드로 내용 출력하기 - 1\n",
    "f = open(\"./Data/new.txt\", \"r\")\n",
    "# python에서 True는 대문자로 시작!\n",
    "while True:\n",
    "    # 첫 번째 줄 불러온다!\n",
    "    line = f.readline()\n",
    "    # 줄에 데이터가 없다면!!\n",
    "    if not line:\n",
    "        break\n",
    "    # 읽어올 게 있다면!!\n",
    "    print(line)\n",
    "f.close()"
   ]
  },
  {
   "cell_type": "code",
   "execution_count": 7,
   "id": "4a975eb8",
   "metadata": {},
   "outputs": [
    {
     "name": "stdout",
     "output_type": "stream",
     "text": [
      "1번째 줄 입니다.\n",
      "\n",
      "2번째 줄 입니다.\n",
      "\n",
      "3번째 줄 입니다.\n",
      "\n",
      "4번째 줄 입니다.\n",
      "\n",
      "5번째 줄 입니다.\n",
      "\n",
      "6번째 줄 입니다.\n",
      "\n",
      "7번째 줄 입니다.\n",
      "\n",
      "8번째 줄 입니다.\n",
      "\n",
      "9번째 줄 입니다.\n",
      "\n",
      "10번째 줄 입니다.\n",
      "\n"
     ]
    }
   ],
   "source": [
    "# 파일 읽기모드로 내용 출력하기 - 2\n",
    "f = open(\"./Data/new.txt\", \"r\")\n",
    "# 있는 만큼 한꺼번에 데이터를 다 불러옴\n",
    "lines = f.readlines()\n",
    "# 파이썬은 무조건 읽어오면 list!!\n",
    "# print(type(lines))\n",
    "for line in lines:\n",
    "    print(line)\n",
    "f.close()"
   ]
  },
  {
   "cell_type": "code",
   "execution_count": 8,
   "id": "f5387b04",
   "metadata": {},
   "outputs": [
    {
     "name": "stdout",
     "output_type": "stream",
     "text": [
      "1번째 줄 입니다.\n",
      "2번째 줄 입니다.\n",
      "3번째 줄 입니다.\n",
      "4번째 줄 입니다.\n",
      "5번째 줄 입니다.\n",
      "6번째 줄 입니다.\n",
      "7번째 줄 입니다.\n",
      "8번째 줄 입니다.\n",
      "9번째 줄 입니다.\n",
      "10번째 줄 입니다.\n",
      "\n"
     ]
    }
   ],
   "source": [
    "# 파일 읽기모드로 내용 출력하기 - 3\n",
    "f = open(\"./Data/new.txt\", \"r\")\n",
    "data = f.read()\n",
    "print(data)\n",
    "f.close()"
   ]
  },
  {
   "cell_type": "code",
   "execution_count": 9,
   "id": "1a902cf9",
   "metadata": {},
   "outputs": [],
   "source": [
    "#     data = \"%d번째 줄 입니다.\\n\"%i\n",
    "# 파일 작성 시 \\n 해줬기 때문에 데이터 결과값들이 한 줄 띄어져서 보임"
   ]
  },
  {
   "cell_type": "code",
   "execution_count": 11,
   "id": "fc58f660",
   "metadata": {},
   "outputs": [],
   "source": [
    "# 파일에 새로운 내용 추가하기\n",
    "f = open(\"./Data/new.txt\", \"a\")\n",
    "for i in range(11, 21):\n",
    "    data = \"%d번째 줄 입니다.\\n\"%i\n",
    "    f.write(data)\n",
    "f.close()"
   ]
  },
  {
   "cell_type": "code",
   "execution_count": 12,
   "id": "52a95c1c",
   "metadata": {},
   "outputs": [
    {
     "name": "stdout",
     "output_type": "stream",
     "text": [
      "1번째 줄 입니다.\n",
      "2번째 줄 입니다.\n",
      "3번째 줄 입니다.\n",
      "4번째 줄 입니다.\n",
      "5번째 줄 입니다.\n",
      "6번째 줄 입니다.\n",
      "7번째 줄 입니다.\n",
      "8번째 줄 입니다.\n",
      "9번째 줄 입니다.\n",
      "10번째 줄 입니다.\n",
      "11번째 줄 입니다.\n",
      "12번째 줄 입니다.\n",
      "13번째 줄 입니다.\n",
      "14번째 줄 입니다.\n",
      "15번째 줄 입니다.\n",
      "16번째 줄 입니다.\n",
      "17번째 줄 입니다.\n",
      "18번째 줄 입니다.\n",
      "19번째 줄 입니다.\n",
      "11번째 줄 입니다.\n",
      "12번째 줄 입니다.\n",
      "13번째 줄 입니다.\n",
      "14번째 줄 입니다.\n",
      "15번째 줄 입니다.\n",
      "16번째 줄 입니다.\n",
      "17번째 줄 입니다.\n",
      "18번째 줄 입니다.\n",
      "19번째 줄 입니다.\n",
      "20번째 줄 입니다.\n",
      "\n"
     ]
    }
   ],
   "source": [
    "f = open(\"./Data/new.txt\", \"r\")\n",
    "data = f.read()\n",
    "print(data)\n",
    "f.close()"
   ]
  },
  {
   "cell_type": "markdown",
   "id": "7393c057",
   "metadata": {},
   "source": [
    "# with문\n",
    ": 파일의 열고 닫음을 자동으로 처리하기 위해 사용되며 with문을 벗어나면 자동으로 close()\n",
    ": close 안쓰면 복잡해지는 것을 방지"
   ]
  },
  {
   "cell_type": "code",
   "execution_count": 16,
   "id": "c0cfad7d",
   "metadata": {},
   "outputs": [],
   "source": [
    "# 파일 만들기 (대부분 요즘 이 방식으로 파일 만든다!!!)\n",
    "# write문은 다시 실행하게 되면 싹 삭제해버리고 다시 파일 만들어버림\n",
    "# 추가하려면 append 꼭 사용하기!!!\n",
    "with open(\"./Data/new2.txt\", \"w\") as f:\n",
    "    for i in range(1, 11):\n",
    "        data = \"%d번째 줄 입니다.\\n\"%i\n",
    "        f.write(data)"
   ]
  },
  {
   "cell_type": "code",
   "execution_count": 17,
   "id": "ec38ade1",
   "metadata": {},
   "outputs": [
    {
     "name": "stdout",
     "output_type": "stream",
     "text": [
      "1번째 줄 입니다.\n",
      "2번째 줄 입니다.\n",
      "3번째 줄 입니다.\n",
      "4번째 줄 입니다.\n",
      "5번째 줄 입니다.\n",
      "6번째 줄 입니다.\n",
      "7번째 줄 입니다.\n",
      "8번째 줄 입니다.\n",
      "9번째 줄 입니다.\n",
      "10번째 줄 입니다.\n",
      "\n"
     ]
    }
   ],
   "source": [
    "# 파일 읽어오기\n",
    "with open(\"./Data/new2.txt\", \"r\") as f:\n",
    "    data = f.read()\n",
    "    print(data)"
   ]
  },
  {
   "cell_type": "markdown",
   "id": "c491f67b",
   "metadata": {},
   "source": [
    "# Pandas로 불러오기 (데이터 모양을 엑셀처럼 볼 수 있음 : 간단해짐!!!)"
   ]
  },
  {
   "cell_type": "code",
   "execution_count": 19,
   "id": "6cbf37c1",
   "metadata": {},
   "outputs": [],
   "source": [
    "import pandas as pd"
   ]
  },
  {
   "cell_type": "code",
   "execution_count": 27,
   "id": "2c5ae647",
   "metadata": {},
   "outputs": [
    {
     "data": {
      "text/html": [
       "<div>\n",
       "<style scoped>\n",
       "    .dataframe tbody tr th:only-of-type {\n",
       "        vertical-align: middle;\n",
       "    }\n",
       "\n",
       "    .dataframe tbody tr th {\n",
       "        vertical-align: top;\n",
       "    }\n",
       "\n",
       "    .dataframe thead th {\n",
       "        text-align: right;\n",
       "    }\n",
       "</style>\n",
       "<table border=\"1\" class=\"dataframe\">\n",
       "  <thead>\n",
       "    <tr style=\"text-align: right;\">\n",
       "      <th></th>\n",
       "      <th>0</th>\n",
       "    </tr>\n",
       "  </thead>\n",
       "  <tbody>\n",
       "    <tr>\n",
       "      <th>24</th>\n",
       "      <td>16번째 줄 입니다.</td>\n",
       "    </tr>\n",
       "    <tr>\n",
       "      <th>25</th>\n",
       "      <td>17번째 줄 입니다.</td>\n",
       "    </tr>\n",
       "    <tr>\n",
       "      <th>26</th>\n",
       "      <td>18번째 줄 입니다.</td>\n",
       "    </tr>\n",
       "    <tr>\n",
       "      <th>27</th>\n",
       "      <td>19번째 줄 입니다.</td>\n",
       "    </tr>\n",
       "    <tr>\n",
       "      <th>28</th>\n",
       "      <td>20번째 줄 입니다.</td>\n",
       "    </tr>\n",
       "  </tbody>\n",
       "</table>\n",
       "</div>"
      ],
      "text/plain": [
       "              0\n",
       "24  16번째 줄 입니다.\n",
       "25  17번째 줄 입니다.\n",
       "26  18번째 줄 입니다.\n",
       "27  19번째 줄 입니다.\n",
       "28  20번째 줄 입니다."
      ]
     },
     "execution_count": 27,
     "metadata": {},
     "output_type": "execute_result"
    }
   ],
   "source": [
    "# r프로그램과 비슷하게 만든 모듈이 Pandas\n",
    "# header 없애기 가능!\n",
    "txtSample = pd.read_table(\"./Data/new.txt\", header = None)\n",
    "txtSample\n",
    "txtSample.head()\n",
    "# 뒤에서 5번째 \n",
    "txtSample.tail()"
   ]
  },
  {
   "cell_type": "markdown",
   "id": "8fbe13ee",
   "metadata": {},
   "source": [
    "# 외장 함수"
   ]
  },
  {
   "cell_type": "code",
   "execution_count": 31,
   "id": "507d8272",
   "metadata": {},
   "outputs": [
    {
     "name": "stdout",
     "output_type": "stream",
     "text": [
      "0\n",
      "1\n",
      "2\n",
      "3\n",
      "4\n",
      "5\n",
      "6\n",
      "7\n",
      "8\n",
      "9\n"
     ]
    }
   ],
   "source": [
    "# time.sleep : 일정시간 간격으로 Loop를 실행\n",
    "# 사람인 척 하려고 천천히 돌리는 것!\n",
    "# 서버에서 사람이 아님을 알아버리면 아예 막아버리기 때문에!!\n",
    "import time\n",
    "\n",
    "for i in range(10):\n",
    "    print(i)\n",
    "    time.sleep(1)"
   ]
  },
  {
   "cell_type": "code",
   "execution_count": 32,
   "id": "95a86733",
   "metadata": {},
   "outputs": [
    {
     "name": "stdout",
     "output_type": "stream",
     "text": [
      "                                  2021\n",
      "\n",
      "      January                   February                   March\n",
      "Mo Tu We Th Fr Sa Su      Mo Tu We Th Fr Sa Su      Mo Tu We Th Fr Sa Su\n",
      "             1  2  3       1  2  3  4  5  6  7       1  2  3  4  5  6  7\n",
      " 4  5  6  7  8  9 10       8  9 10 11 12 13 14       8  9 10 11 12 13 14\n",
      "11 12 13 14 15 16 17      15 16 17 18 19 20 21      15 16 17 18 19 20 21\n",
      "18 19 20 21 22 23 24      22 23 24 25 26 27 28      22 23 24 25 26 27 28\n",
      "25 26 27 28 29 30 31                                29 30 31\n",
      "\n",
      "       April                      May                       June\n",
      "Mo Tu We Th Fr Sa Su      Mo Tu We Th Fr Sa Su      Mo Tu We Th Fr Sa Su\n",
      "          1  2  3  4                      1  2          1  2  3  4  5  6\n",
      " 5  6  7  8  9 10 11       3  4  5  6  7  8  9       7  8  9 10 11 12 13\n",
      "12 13 14 15 16 17 18      10 11 12 13 14 15 16      14 15 16 17 18 19 20\n",
      "19 20 21 22 23 24 25      17 18 19 20 21 22 23      21 22 23 24 25 26 27\n",
      "26 27 28 29 30            24 25 26 27 28 29 30      28 29 30\n",
      "                          31\n",
      "\n",
      "        July                     August                  September\n",
      "Mo Tu We Th Fr Sa Su      Mo Tu We Th Fr Sa Su      Mo Tu We Th Fr Sa Su\n",
      "          1  2  3  4                         1             1  2  3  4  5\n",
      " 5  6  7  8  9 10 11       2  3  4  5  6  7  8       6  7  8  9 10 11 12\n",
      "12 13 14 15 16 17 18       9 10 11 12 13 14 15      13 14 15 16 17 18 19\n",
      "19 20 21 22 23 24 25      16 17 18 19 20 21 22      20 21 22 23 24 25 26\n",
      "26 27 28 29 30 31         23 24 25 26 27 28 29      27 28 29 30\n",
      "                          30 31\n",
      "\n",
      "      October                   November                  December\n",
      "Mo Tu We Th Fr Sa Su      Mo Tu We Th Fr Sa Su      Mo Tu We Th Fr Sa Su\n",
      "             1  2  3       1  2  3  4  5  6  7             1  2  3  4  5\n",
      " 4  5  6  7  8  9 10       8  9 10 11 12 13 14       6  7  8  9 10 11 12\n",
      "11 12 13 14 15 16 17      15 16 17 18 19 20 21      13 14 15 16 17 18 19\n",
      "18 19 20 21 22 23 24      22 23 24 25 26 27 28      20 21 22 23 24 25 26\n",
      "25 26 27 28 29 30 31      29 30                     27 28 29 30 31\n",
      "\n"
     ]
    }
   ],
   "source": [
    "import calendar\n",
    "print(calendar.calendar(2021))"
   ]
  },
  {
   "cell_type": "code",
   "execution_count": 34,
   "id": "4c52df82",
   "metadata": {},
   "outputs": [
    {
     "name": "stdout",
     "output_type": "stream",
     "text": [
      "     July 2021\n",
      "Mo Tu We Th Fr Sa Su\n",
      "          1  2  3  4\n",
      " 5  6  7  8  9 10 11\n",
      "12 13 14 15 16 17 18\n",
      "19 20 21 22 23 24 25\n",
      "26 27 28 29 30 31\n"
     ]
    }
   ],
   "source": [
    "calendar.prmonth(2021, 7)"
   ]
  },
  {
   "cell_type": "code",
   "execution_count": 35,
   "id": "27febd32",
   "metadata": {},
   "outputs": [
    {
     "data": {
      "text/plain": [
       "3"
      ]
     },
     "execution_count": 35,
     "metadata": {},
     "output_type": "execute_result"
    }
   ],
   "source": [
    "# monday : 0임! 요일알려주는 것\n",
    "calendar.weekday(2021, 7, 1)"
   ]
  },
  {
   "cell_type": "code",
   "execution_count": 36,
   "id": "b9810028",
   "metadata": {},
   "outputs": [
    {
     "data": {
      "text/plain": [
       "(3, 31)"
      ]
     },
     "execution_count": 36,
     "metadata": {},
     "output_type": "execute_result"
    }
   ],
   "source": [
    "# 목요일부터 시작하고 31까지 있다는 의미!\n",
    "calendar.monthrange(2021, 7)"
   ]
  },
  {
   "cell_type": "code",
   "execution_count": 37,
   "id": "04b0a755",
   "metadata": {},
   "outputs": [
    {
     "data": {
      "text/plain": [
       "True"
      ]
     },
     "execution_count": 37,
     "metadata": {},
     "output_type": "execute_result"
    }
   ],
   "source": [
    "# web browser\n",
    "import webbrowser\n",
    "webbrowser.open(\"https://www.naver.com\")"
   ]
  },
  {
   "cell_type": "code",
   "execution_count": null,
   "id": "c1022811",
   "metadata": {},
   "outputs": [],
   "source": []
  }
 ],
 "metadata": {
  "kernelspec": {
   "display_name": "Python 3",
   "language": "python",
   "name": "python3"
  },
  "language_info": {
   "codemirror_mode": {
    "name": "ipython",
    "version": 3
   },
   "file_extension": ".py",
   "mimetype": "text/x-python",
   "name": "python",
   "nbconvert_exporter": "python",
   "pygments_lexer": "ipython3",
   "version": "3.8.8"
  }
 },
 "nbformat": 4,
 "nbformat_minor": 5
}
