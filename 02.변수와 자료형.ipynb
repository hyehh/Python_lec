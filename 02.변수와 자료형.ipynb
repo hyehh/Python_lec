{
 "cells": [
  {
   "cell_type": "markdown",
   "id": "01a977f3",
   "metadata": {},
   "source": [
    "# --- 변수와 자료형 ---\n",
    "## 변수\n",
    "계산에 필요한 자료를 일시적으로 저장하거나 처리 결과를 담을 수 있는 기억 장소를 지정해 주는 역할.   \n",
    "변수 이름은 값을 지정하는 메모리 영역의 이름으로 할당.\n",
    "\n",
    "## 변수 이름의 작성 규칙\n",
    "- 첫자는 영문으로 시작.\n",
    "- 첫자를 제외하고 숫자, under bar, dot 을 사용할 수 있음.\n",
    "- 대문자와 소문자를 구분.\n",
    "- 변수 이름은 의미를 파악할 수 있는 이름으로 지정하는 것이 좋음.\n",
    "- 두 단어를 포함한 변수 이름을 지정할 경우 두 번째 단어의 첫자는 대문자로 표시(camel method)하거나 under bar(snack method)로 표시하는 것이 가독성에 좋음."
   ]
  },
  {
   "cell_type": "markdown",
   "id": "f9d1a0bb",
   "metadata": {},
   "source": [
    "# 자료형\n",
    "## 숫자 자료형"
   ]
  },
  {
   "cell_type": "code",
   "execution_count": 1,
   "id": "fe3abcfa",
   "metadata": {},
   "outputs": [
    {
     "data": {
      "text/plain": [
       "0"
      ]
     },
     "execution_count": 1,
     "metadata": {},
     "output_type": "execute_result"
    }
   ],
   "source": [
    "# 정수형\n",
    "\n",
    "var01 = 123\n",
    "var02 = -17\n",
    "var01 = 0\n",
    "\n",
    "var01"
   ]
  },
  {
   "cell_type": "code",
   "execution_count": 2,
   "id": "83b81f8b",
   "metadata": {},
   "outputs": [
    {
     "name": "stdout",
     "output_type": "stream",
     "text": [
      "0\n"
     ]
    }
   ],
   "source": [
    "# 정수형\n",
    "\n",
    "var01 = 123\n",
    "var02 = -17\n",
    "var01 = 0\n",
    "\n",
    "print(var01)"
   ]
  },
  {
   "cell_type": "code",
   "execution_count": 3,
   "id": "4420c4b6",
   "metadata": {},
   "outputs": [
    {
     "data": {
      "text/plain": [
       "-12.34"
      ]
     },
     "execution_count": 3,
     "metadata": {},
     "output_type": "execute_result"
    }
   ],
   "source": [
    "# 실수형\n",
    "\n",
    "var02 = 1.2\n",
    "var02 = -12.34\n",
    "\n",
    "var02"
   ]
  },
  {
   "cell_type": "code",
   "execution_count": 4,
   "id": "adbc64ac",
   "metadata": {},
   "outputs": [
    {
     "name": "stdout",
     "output_type": "stream",
     "text": [
      "덧셈 :  7\n",
      "뺄셈 :  -1\n",
      "곱셈 :  12\n",
      "실수 나눗셈 :  0.75\n",
      "정수 나눗셈 몫 :  0\n",
      "정수 나눗셈 나머지 :  3\n",
      "제곱 :  9\n",
      "제곱 :  9\n"
     ]
    }
   ],
   "source": [
    "# 연산자\n",
    "\n",
    "var01 = 3\n",
    "var02 = 4\n",
    "\n",
    "print('덧셈 : ', var01 + var02)\n",
    "print('뺄셈 : ', var01 - var02)\n",
    "print('곱셈 : ', var01 * var02)\n",
    "print('실수 나눗셈 : ', var01 / var02)\n",
    "print('정수 나눗셈 몫 : ', var01 // var02)\n",
    "print('정수 나눗셈 나머지 : ', var01 % var02)\n",
    "print('제곱 : ', var01 ** 2)\n",
    "print('제곱 : ', pow(var01, 2))"
   ]
  },
  {
   "cell_type": "markdown",
   "id": "423c5207",
   "metadata": {},
   "source": [
    "## 파이썬 모듈을 이용한 수학계산"
   ]
  },
  {
   "cell_type": "code",
   "execution_count": 5,
   "id": "9e48037d",
   "metadata": {},
   "outputs": [],
   "source": [
    "# 수학계산 모듈 불러오기\n",
    "import math"
   ]
  },
  {
   "cell_type": "code",
   "execution_count": 6,
   "id": "6a97de83",
   "metadata": {},
   "outputs": [
    {
     "data": {
      "text/plain": [
       "9.0"
      ]
     },
     "execution_count": 6,
     "metadata": {},
     "output_type": "execute_result"
    }
   ],
   "source": [
    "# 거듭제곱 (기본적으로 실수로 값 등장)\n",
    "math.pow(var01, 2)"
   ]
  },
  {
   "cell_type": "code",
   "execution_count": 7,
   "id": "6a023409",
   "metadata": {},
   "outputs": [
    {
     "data": {
      "text/plain": [
       "1.7320508075688772"
      ]
     },
     "execution_count": 7,
     "metadata": {},
     "output_type": "execute_result"
    }
   ],
   "source": [
    "# 제곱근 (루트)\n",
    "math.sqrt(var01)"
   ]
  },
  {
   "cell_type": "code",
   "execution_count": 8,
   "id": "d2fe2e01",
   "metadata": {},
   "outputs": [
    {
     "data": {
      "text/plain": [
       "0.8509035245341184"
      ]
     },
     "execution_count": 8,
     "metadata": {},
     "output_type": "execute_result"
    }
   ],
   "source": [
    "# sin(45)\n",
    "math.sin(45)"
   ]
  },
  {
   "cell_type": "code",
   "execution_count": 9,
   "id": "a4aa43c2",
   "metadata": {},
   "outputs": [
    {
     "data": {
      "text/plain": [
       "1.0"
      ]
     },
     "execution_count": 9,
     "metadata": {},
     "output_type": "execute_result"
    }
   ],
   "source": [
    "# sin(45)제곱 + cos(45)제곱\n",
    "math.pow(math.sin(45), 2) + math.pow(math.cos(45), 2)"
   ]
  },
  {
   "cell_type": "markdown",
   "id": "233827a8",
   "metadata": {},
   "source": [
    "# 난수(정해지지 않은 수) 발생"
   ]
  },
  {
   "cell_type": "code",
   "execution_count": 10,
   "id": "166b3b47",
   "metadata": {},
   "outputs": [],
   "source": [
    "# 모듈 불러오기\n",
    "import random"
   ]
  },
  {
   "cell_type": "code",
   "execution_count": 11,
   "id": "74302c44",
   "metadata": {},
   "outputs": [
    {
     "data": {
      "text/plain": [
       "100"
      ]
     },
     "execution_count": 11,
     "metadata": {},
     "output_type": "execute_result"
    }
   ],
   "source": [
    "# 1에서 100사이의 난수 하나 가져오기\n",
    "random.randint(1, 100)"
   ]
  },
  {
   "cell_type": "code",
   "execution_count": 12,
   "id": "05d8b7ce",
   "metadata": {},
   "outputs": [
    {
     "data": {
      "text/plain": [
       "[5, 3, 2]"
      ]
     },
     "execution_count": 12,
     "metadata": {},
     "output_type": "execute_result"
    }
   ],
   "source": [
    "# 5개 중 3개 숫자 뽑아 그 3개의 숫자의 자리배치 정해주기\n",
    "rlist = [1,2,3,4,5]\n",
    "random.sample(rlist, 3)"
   ]
  },
  {
   "cell_type": "code",
   "execution_count": 13,
   "id": "e2a41b34",
   "metadata": {
    "collapsed": true
   },
   "outputs": [
    {
     "name": "stdout",
     "output_type": "stream",
     "text": [
      "1\n",
      "2\n",
      "3\n",
      "4\n",
      "5\n",
      "6\n",
      "7\n",
      "8\n",
      "9\n",
      "10\n",
      "11\n",
      "12\n",
      "13\n",
      "14\n",
      "15\n",
      "16\n",
      "17\n",
      "18\n",
      "19\n",
      "20\n",
      "21\n",
      "22\n",
      "23\n",
      "24\n",
      "25\n",
      "26\n",
      "27\n",
      "28\n",
      "29\n",
      "30\n",
      "31\n",
      "32\n",
      "33\n",
      "34\n",
      "35\n",
      "36\n",
      "37\n",
      "38\n",
      "39\n",
      "40\n",
      "41\n",
      "42\n",
      "43\n",
      "44\n",
      "45\n",
      "46\n",
      "47\n",
      "48\n",
      "49\n",
      "50\n",
      "51\n",
      "52\n",
      "53\n",
      "54\n",
      "55\n",
      "56\n",
      "57\n",
      "58\n",
      "59\n",
      "60\n",
      "61\n",
      "62\n",
      "63\n",
      "64\n",
      "65\n",
      "66\n",
      "67\n",
      "68\n",
      "69\n",
      "70\n",
      "71\n",
      "72\n",
      "73\n",
      "74\n",
      "75\n",
      "76\n",
      "77\n",
      "78\n",
      "79\n",
      "80\n",
      "81\n",
      "82\n",
      "83\n",
      "84\n",
      "85\n",
      "86\n",
      "87\n",
      "88\n",
      "89\n",
      "90\n",
      "91\n",
      "92\n",
      "93\n",
      "94\n",
      "95\n",
      "96\n",
      "97\n",
      "98\n",
      "99\n",
      "100\n"
     ]
    }
   ],
   "source": [
    "# 1부터 100까지 범위\n",
    "alist = range(1, 101)\n",
    "for i in alist:\n",
    "    print(i)"
   ]
  },
  {
   "cell_type": "code",
   "execution_count": 14,
   "id": "63b2c155",
   "metadata": {},
   "outputs": [
    {
     "data": {
      "text/plain": [
       "[42, 13, 25, 38, 12, 24]"
      ]
     },
     "execution_count": 14,
     "metadata": {},
     "output_type": "execute_result"
    }
   ],
   "source": [
    "# 로또 자동번호 생성기\n",
    "alist = range(1, 46)\n",
    "random.sample(alist, 6)"
   ]
  },
  {
   "cell_type": "code",
   "execution_count": 15,
   "id": "bf514375",
   "metadata": {},
   "outputs": [
    {
     "data": {
      "text/plain": [
       "['In',\n",
       " 'Out',\n",
       " '_',\n",
       " '_1',\n",
       " '_11',\n",
       " '_12',\n",
       " '_14',\n",
       " '_3',\n",
       " '_6',\n",
       " '_7',\n",
       " '_8',\n",
       " '_9',\n",
       " '__',\n",
       " '___',\n",
       " '__builtin__',\n",
       " '__builtins__',\n",
       " '__doc__',\n",
       " '__loader__',\n",
       " '__name__',\n",
       " '__package__',\n",
       " '__spec__',\n",
       " '_dh',\n",
       " '_i',\n",
       " '_i1',\n",
       " '_i10',\n",
       " '_i11',\n",
       " '_i12',\n",
       " '_i13',\n",
       " '_i14',\n",
       " '_i15',\n",
       " '_i2',\n",
       " '_i3',\n",
       " '_i4',\n",
       " '_i5',\n",
       " '_i6',\n",
       " '_i7',\n",
       " '_i8',\n",
       " '_i9',\n",
       " '_ih',\n",
       " '_ii',\n",
       " '_iii',\n",
       " '_oh',\n",
       " 'alist',\n",
       " 'exit',\n",
       " 'get_ipython',\n",
       " 'i',\n",
       " 'math',\n",
       " 'quit',\n",
       " 'random',\n",
       " 'rlist',\n",
       " 'var01',\n",
       " 'var02']"
      ]
     },
     "execution_count": 15,
     "metadata": {},
     "output_type": "execute_result"
    }
   ],
   "source": [
    "# 메모리에 있는 변수 보기\n",
    "dir()"
   ]
  },
  {
   "cell_type": "code",
   "execution_count": 16,
   "id": "978d8a14",
   "metadata": {},
   "outputs": [
    {
     "data": {
      "text/plain": [
       "3"
      ]
     },
     "execution_count": 16,
     "metadata": {},
     "output_type": "execute_result"
    }
   ],
   "source": [
    "var01"
   ]
  },
  {
   "cell_type": "code",
   "execution_count": 17,
   "id": "bf16c817",
   "metadata": {},
   "outputs": [],
   "source": [
    "# 메모리에 있는 변수 지우기\n",
    "del var01"
   ]
  },
  {
   "cell_type": "markdown",
   "id": "742ecf40",
   "metadata": {},
   "source": [
    "# 관계 연산자"
   ]
  },
  {
   "cell_type": "code",
   "execution_count": 19,
   "id": "2dcc90fd",
   "metadata": {},
   "outputs": [],
   "source": [
    "num1 = 100\n",
    "num2 = 20"
   ]
  },
  {
   "cell_type": "code",
   "execution_count": 21,
   "id": "bf0b60bf",
   "metadata": {},
   "outputs": [
    {
     "name": "stdout",
     "output_type": "stream",
     "text": [
      "False\n",
      "True\n"
     ]
    }
   ],
   "source": [
    "# 동등 비교 (대문자로 참 거짓 등장)\n",
    "print(num1 == num2)\n",
    "print(num1 != num2)"
   ]
  },
  {
   "cell_type": "code",
   "execution_count": 23,
   "id": "bb836c4b",
   "metadata": {},
   "outputs": [
    {
     "data": {
      "text/plain": [
       "False"
      ]
     },
     "execution_count": 23,
     "metadata": {},
     "output_type": "execute_result"
    }
   ],
   "source": [
    "# 크기 비교\n",
    "num1 > num2\n",
    "num1 < num2"
   ]
  },
  {
   "cell_type": "code",
   "execution_count": 24,
   "id": "db7e3e0b",
   "metadata": {},
   "outputs": [
    {
     "name": "stdout",
     "output_type": "stream",
     "text": [
      "True\n",
      "False\n",
      "True\n",
      "False\n"
     ]
    }
   ],
   "source": [
    "# 크기 비교 (print 안쓰면 맨 마지막 결과만 보임)\n",
    "print(num1 > num2)\n",
    "print(num1 < num2)\n",
    "print(num1 >= num2)\n",
    "print(num1 <= num2)"
   ]
  },
  {
   "cell_type": "code",
   "execution_count": 26,
   "id": "13a36a55",
   "metadata": {},
   "outputs": [
    {
     "name": "stdout",
     "output_type": "stream",
     "text": [
      "False\n",
      "True\n"
     ]
    }
   ],
   "source": [
    "# And, Or\n",
    "print((num1 >= 50) & (num2 <= 10))\n",
    "print((num1 >= 50) | (num2 <= 10))"
   ]
  },
  {
   "cell_type": "code",
   "execution_count": 29,
   "id": "1a66f6f7",
   "metadata": {},
   "outputs": [
    {
     "data": {
      "text/plain": [
       "False"
      ]
     },
     "execution_count": 29,
     "metadata": {},
     "output_type": "execute_result"
    }
   ],
   "source": [
    "# 부정 연산자 (서울에 살지 않는 사람 이런거 할 때 필요)\n",
    "not(num1 >= 50)"
   ]
  },
  {
   "cell_type": "markdown",
   "id": "36e20693",
   "metadata": {},
   "source": [
    "---"
   ]
  },
  {
   "cell_type": "code",
   "execution_count": 30,
   "id": "b96fce04",
   "metadata": {},
   "outputs": [
    {
     "data": {
      "text/plain": [
       "'Hello World!'"
      ]
     },
     "execution_count": 30,
     "metadata": {},
     "output_type": "execute_result"
    }
   ],
   "source": [
    "# 쌍따옴표 홑따옴표 둘 다 상관 없음\n",
    "var01 = \"Hello World!\"\n",
    "var01"
   ]
  },
  {
   "cell_type": "code",
   "execution_count": 31,
   "id": "b223fb8a",
   "metadata": {},
   "outputs": [
    {
     "data": {
      "text/plain": [
       "'Hello World!'"
      ]
     },
     "execution_count": 31,
     "metadata": {},
     "output_type": "execute_result"
    }
   ],
   "source": [
    "var01 = 'Hello World!'\n",
    "var01"
   ]
  },
  {
   "cell_type": "code",
   "execution_count": 33,
   "id": "10284c12",
   "metadata": {},
   "outputs": [
    {
     "name": "stdout",
     "output_type": "stream",
     "text": [
      "\n",
      "        Hello World!\n",
      "        Good to meet you!\n",
      "\n"
     ]
    }
   ],
   "source": [
    "# 여러줄의 문자열 출력(쌍따옴표 세 개) - html 문서를 변수로 저장할 때 많이 사용함\n",
    "\n",
    "var01 = \"\"\"\n",
    "        Hello World!\n",
    "        Good to meet you!\n",
    "\"\"\"\n",
    "print(var01)"
   ]
  },
  {
   "cell_type": "code",
   "execution_count": 35,
   "id": "768d26f5",
   "metadata": {},
   "outputs": [
    {
     "name": "stdout",
     "output_type": "stream",
     "text": [
      "My father's wife is my mother.\n",
      "He says \"I love you.\"\n"
     ]
    }
   ],
   "source": [
    "# 쌍따옴표와 홑따옴표의 사용\n",
    "# 내가 출력하고자 하는 거에 쌍따옴표가 있을 경우 (홑따옴표로 감싸기) / 홑따옴표가 있을 경우 (쌍따옴표로 감싸기)\n",
    "var01 = \"My father's wife is my mother.\"\n",
    "var02 = 'He says \"I love you.\"'\n",
    "print(var01)\n",
    "print(var02)"
   ]
  },
  {
   "cell_type": "code",
   "execution_count": 38,
   "id": "1cf3516f",
   "metadata": {},
   "outputs": [
    {
     "name": "stdout",
     "output_type": "stream",
     "text": [
      "aaa\n",
      "bbb\n",
      "aaa\tbbb\n"
     ]
    }
   ],
   "source": [
    "# 특수문자를 사용한 출력\n",
    "var03 = 'aaa\\nbbb'\n",
    "var04 = 'aaa\\tbbb'\n",
    "print(var03)\n",
    "print(var04)"
   ]
  },
  {
   "cell_type": "code",
   "execution_count": 41,
   "id": "99e3b96b",
   "metadata": {},
   "outputs": [
    {
     "name": "stdout",
     "output_type": "stream",
     "text": [
      "Pythonis fun.\n",
      "Python is fun.\n"
     ]
    }
   ],
   "source": [
    "# 문자열 연산(덧셈)\n",
    "var01 = 'Python'\n",
    "var02 = 'is fun.'\n",
    "\n",
    "# +는 한 칸 띄어지지 않음\n",
    "print(var01 + var02)\n",
    "# , 이어주는 건 한 칸 띄기가 자동으로 들어감\n",
    "print(var01, var02)"
   ]
  },
  {
   "cell_type": "code",
   "execution_count": 42,
   "id": "fb1241cf",
   "metadata": {},
   "outputs": [
    {
     "name": "stdout",
     "output_type": "stream",
     "text": [
      "PythonPythonPython\n"
     ]
    }
   ],
   "source": [
    "# 문자열 연산(곱셈)\n",
    "print(var01 * 3)"
   ]
  },
  {
   "cell_type": "raw",
   "id": "6c01e7a8",
   "metadata": {},
   "source": [
    "==================\n",
    "Python\n",
    "=================="
   ]
  },
  {
   "cell_type": "code",
   "execution_count": 44,
   "id": "6d2c0156",
   "metadata": {},
   "outputs": [
    {
     "name": "stdout",
     "output_type": "stream",
     "text": [
      "====================\n",
      "Python\n",
      "====================\n"
     ]
    }
   ],
   "source": [
    "# 히스토그램이나 막대그래프 그릴 때 많이 사용함\n",
    "print(\"=\" * 20)\n",
    "print('Python')\n",
    "print(\"=\" * 20)"
   ]
  },
  {
   "cell_type": "code",
   "execution_count": 55,
   "id": "77dc36cd",
   "metadata": {},
   "outputs": [
    {
     "name": "stdout",
     "output_type": "stream",
     "text": [
      "a\n",
      "abc\n",
      "n\n",
      "fghijklmn\n",
      "abcde\n",
      "fghijkl\n"
     ]
    }
   ],
   "source": [
    "# 문자열 Indexing과 Slicing(: 들어가면 Slicing)\n",
    "# 선언안했는데도 [] 사용 가능\n",
    "str = \"abcdefghijklmn\"\n",
    "\n",
    "print(str[0])\n",
    "# 이거는 불가능 \n",
    "# print(str[0,1,2])\n",
    "# 이거는 0부터 3전까지 출력 (Slicing)\n",
    "print(str[0:3])\n",
    "# 마지막 글자 중 첫 번째 값\n",
    "print(str[-1])\n",
    "# 뒤에 숫자를 정하지 않으면 끝까지임!\n",
    "print(str[5:])\n",
    "# 앞에 숫자를 정하지 않으면 처음부터임!\n",
    "print(str[:5])\n",
    "\n",
    "# fghijkl\n",
    "# 5번째 부터 -2(m) 이전까지의 문자 출력\n",
    "print(str[5:-2])"
   ]
  },
  {
   "cell_type": "code",
   "execution_count": 58,
   "id": "230fd628",
   "metadata": {},
   "outputs": [
    {
     "name": "stdout",
     "output_type": "stream",
     "text": [
      "2021-12-31\n"
     ]
    }
   ],
   "source": [
    "str = \"20211231\"\n",
    "\n",
    "# 2021-12-31\n",
    "print(str[:4] + '-' + str[4:6] + '-' + str[-2:])"
   ]
  },
  {
   "cell_type": "code",
   "execution_count": 59,
   "id": "401c9b04",
   "metadata": {},
   "outputs": [
    {
     "name": "stdout",
     "output_type": "stream",
     "text": [
      "202C1231\n"
     ]
    }
   ],
   "source": [
    "# 202C1231\n",
    "print(str[:3] + 'C' + str[-4:])"
   ]
  },
  {
   "cell_type": "markdown",
   "id": "20e90d31",
   "metadata": {},
   "source": [
    "---"
   ]
  },
  {
   "cell_type": "markdown",
   "id": "aa886d44",
   "metadata": {},
   "source": [
    "# 문자열 관련 함수"
   ]
  },
  {
   "cell_type": "code",
   "execution_count": 67,
   "id": "e7dd70ba",
   "metadata": {},
   "outputs": [
    {
     "name": "stdout",
     "output_type": "stream",
     "text": [
      "3\n",
      "1\n",
      "15\n"
     ]
    }
   ],
   "source": [
    "# 문자 Count\n",
    "str = \"I have a dream.\"\n",
    "\n",
    "# a가 몇 글자 있는가\n",
    "print(str.count('a'))\n",
    "print(str.count('dream'))\n",
    "# 전체 글자의 갯수 (띄어쓰기 포함)\n",
    "print(len(str))"
   ]
  },
  {
   "cell_type": "code",
   "execution_count": 69,
   "id": "13c245a2",
   "metadata": {},
   "outputs": [
    {
     "name": "stdout",
     "output_type": "stream",
     "text": [
      "5\n",
      "-1\n"
     ]
    }
   ],
   "source": [
    "# 문자 위치 알려주기 (제일 처음의 위치를 기준으로 알려줌)\n",
    "print(str.find('e'))\n",
    "# -1 이면 그런 단어 없다는 의미임\n",
    "print(str.find('x'))"
   ]
  },
  {
   "cell_type": "code",
   "execution_count": 70,
   "id": "ba4e64bf",
   "metadata": {},
   "outputs": [
    {
     "data": {
      "text/plain": [
       "'a,b,c,d,e,f,g'"
      ]
     },
     "execution_count": 70,
     "metadata": {},
     "output_type": "execute_result"
    }
   ],
   "source": [
    "# 문자열 삽입\n",
    "str = ','\n",
    "str.join('abcdefg')"
   ]
  },
  {
   "cell_type": "code",
   "execution_count": 72,
   "id": "cb24689a",
   "metadata": {},
   "outputs": [
    {
     "data": {
      "text/plain": [
       "'HI'"
      ]
     },
     "execution_count": 72,
     "metadata": {},
     "output_type": "execute_result"
    }
   ],
   "source": [
    "# 소문자를 대문자로 변경\n",
    "str = 'hi'\n",
    "\n",
    "# 둘 다 가능\n",
    "str.upper()\n",
    "'hi'.upper()"
   ]
  },
  {
   "cell_type": "code",
   "execution_count": 73,
   "id": "57221712",
   "metadata": {},
   "outputs": [
    {
     "data": {
      "text/plain": [
       "'hi'"
      ]
     },
     "execution_count": 73,
     "metadata": {},
     "output_type": "execute_result"
    }
   ],
   "source": [
    "# 대문자를 소문자로 변경\n",
    "str = 'HI'\n",
    "\n",
    "str.lower()"
   ]
  },
  {
   "cell_type": "code",
   "execution_count": 75,
   "id": "ebb886b2",
   "metadata": {},
   "outputs": [
    {
     "data": {
      "text/plain": [
       "'hi'"
      ]
     },
     "execution_count": 75,
     "metadata": {},
     "output_type": "execute_result"
    }
   ],
   "source": [
    "# 왼쪽 공백 지우기\n",
    "str = '          hi'\n",
    "str.lstrip()"
   ]
  },
  {
   "cell_type": "code",
   "execution_count": 76,
   "id": "c22b55fb",
   "metadata": {},
   "outputs": [
    {
     "data": {
      "text/plain": [
       "'hi'"
      ]
     },
     "execution_count": 76,
     "metadata": {},
     "output_type": "execute_result"
    }
   ],
   "source": [
    "# 오른쪽 공백 지우기\n",
    "str = 'hi        '\n",
    "str.rstrip()"
   ]
  },
  {
   "cell_type": "code",
   "execution_count": 77,
   "id": "9cbb965f",
   "metadata": {},
   "outputs": [
    {
     "data": {
      "text/plain": [
       "'hi'"
      ]
     },
     "execution_count": 77,
     "metadata": {},
     "output_type": "execute_result"
    }
   ],
   "source": [
    "# 양쪽 공백 지우기 (대부분 strip 만 거의 많이 사용)\n",
    "str = '      hi      '\n",
    "str.strip()"
   ]
  },
  {
   "cell_type": "code",
   "execution_count": 79,
   "id": "2e689a2b",
   "metadata": {},
   "outputs": [
    {
     "data": {
      "text/plain": [
       "'Life is too short to be happy.'"
      ]
     },
     "execution_count": 79,
     "metadata": {},
     "output_type": "execute_result"
    }
   ],
   "source": [
    "# 문자열 바꾸기\n",
    "str = 'Life is too short to be happy.'\n",
    "str.replace('happy', 'unhappy')"
   ]
  },
  {
   "cell_type": "code",
   "execution_count": 80,
   "id": "e7d2c56d",
   "metadata": {},
   "outputs": [
    {
     "data": {
      "text/plain": [
       "'Life is too short to be happy.'"
      ]
     },
     "execution_count": 80,
     "metadata": {},
     "output_type": "execute_result"
    }
   ],
   "source": [
    "# str.replace('happy', 'unhappy')를 str에 할당하지 않았기 때문에 원래 상태대로 보임\n",
    "str"
   ]
  },
  {
   "cell_type": "code",
   "execution_count": 81,
   "id": "57bafc3d",
   "metadata": {},
   "outputs": [],
   "source": [
    "# 문자열 나누기"
   ]
  },
  {
   "cell_type": "code",
   "execution_count": 87,
   "id": "6aa70d5c",
   "metadata": {},
   "outputs": [
    {
     "name": "stdout",
     "output_type": "stream",
     "text": [
      "<class 'list'>\n",
      "['Life', 'is', 'too', 'short', 'to', 'be', 'happy.']\n"
     ]
    }
   ],
   "source": [
    "list01 = str.split()\n",
    "print(type(list01))\n",
    "print(list01)"
   ]
  },
  {
   "cell_type": "code",
   "execution_count": 88,
   "id": "77a9ce80",
   "metadata": {},
   "outputs": [
    {
     "name": "stdout",
     "output_type": "stream",
     "text": [
      "<class 'str'>\n"
     ]
    },
    {
     "data": {
      "text/plain": [
       "'2021Life'"
      ]
     },
     "execution_count": 88,
     "metadata": {},
     "output_type": "execute_result"
    }
   ],
   "source": [
    "str01 = '2021-12-31'\n",
    "print(type(str01))\n",
    "str01.split('-')[0] + list01[0]"
   ]
  },
  {
   "cell_type": "markdown",
   "id": "3e6f4185",
   "metadata": {},
   "source": [
    "# 날짜형 변환"
   ]
  },
  {
   "cell_type": "code",
   "execution_count": 89,
   "id": "8a7f0ba4",
   "metadata": {},
   "outputs": [],
   "source": [
    "# 날짜형 모듈 불러오기\n",
    "from datetime import datetime, timedelta"
   ]
  },
  {
   "cell_type": "code",
   "execution_count": 97,
   "id": "06c44f0a",
   "metadata": {},
   "outputs": [
    {
     "name": "stdout",
     "output_type": "stream",
     "text": [
      "2021-12-31 12:00:00\n"
     ]
    }
   ],
   "source": [
    "time1 = datetime(2021, 12, 31, 12, 0, 0, 0)\n",
    "type(time1)\n",
    "print(time1)"
   ]
  },
  {
   "cell_type": "code",
   "execution_count": 102,
   "id": "490f9b56",
   "metadata": {},
   "outputs": [
    {
     "name": "stdout",
     "output_type": "stream",
     "text": [
      "174 days, 21:13:32.982038\n"
     ]
    }
   ],
   "source": [
    "# 날짜 계산하기\n",
    "# 현재 시간\n",
    "time2 = datetime.now()\n",
    "\n",
    "print(time1 - time2)"
   ]
  },
  {
   "cell_type": "code",
   "execution_count": 103,
   "id": "0e231acb",
   "metadata": {},
   "outputs": [
    {
     "name": "stdout",
     "output_type": "stream",
     "text": [
      "두 날짜의 차이는 \n",
      "174 일\n"
     ]
    }
   ],
   "source": [
    "# 좀 더 편리하게 출력\n",
    "\n",
    "print('두 날짜의 차이는 ')\n",
    "print((time1 - time2).days, '일')"
   ]
  },
  {
   "cell_type": "code",
   "execution_count": 129,
   "id": "4516c31a",
   "metadata": {},
   "outputs": [
    {
     "name": "stdout",
     "output_type": "stream",
     "text": [
      "현재 시간부터 5일 뒤\n",
      "2021-07-14 14:46:27.017962\n",
      "현재 시간부터 5일 전\n",
      "2021-07-04 14:46:27.017962\n",
      "현재 시간부터 1일 뒤의 2시간 전\n",
      "2021-07-10 12:46:27.017962\n"
     ]
    }
   ],
   "source": [
    "# 특정 날짜로부터 시간 계산\n",
    "print('현재 시간부터 5일 뒤')\n",
    "print(time2 + timedelta(days = 5))\n",
    "print('현재 시간부터 5일 전')\n",
    "print(time2 + timedelta(days = -5))\n",
    "\n",
    "# 현재 시간부터 1일 뒤의 2시간 전\n",
    "print('현재 시간부터 1일 뒤의 2시간 전')\n",
    "print(time2 + timedelta(days = 1, hours = -2))"
   ]
  },
  {
   "cell_type": "code",
   "execution_count": null,
   "id": "728bc8d9",
   "metadata": {},
   "outputs": [],
   "source": []
  }
 ],
 "metadata": {
  "kernelspec": {
   "display_name": "Python 3",
   "language": "python",
   "name": "python3"
  },
  "language_info": {
   "codemirror_mode": {
    "name": "ipython",
    "version": 3
   },
   "file_extension": ".py",
   "mimetype": "text/x-python",
   "name": "python",
   "nbconvert_exporter": "python",
   "pygments_lexer": "ipython3",
   "version": "3.8.8"
  }
 },
 "nbformat": 4,
 "nbformat_minor": 5
}
