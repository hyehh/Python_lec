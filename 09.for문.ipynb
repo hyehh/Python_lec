{
 "cells": [
  {
   "cell_type": "markdown",
   "id": "35204b5b",
   "metadata": {},
   "source": [
    "## range 함수\n",
    "range(시작숫자, 끝숫자, 증가값)   \n",
    "\n",
    "증가값 사용하지 않으면 1씩 증가함"
   ]
  },
  {
   "cell_type": "code",
   "execution_count": 1,
   "id": "e1c519fc",
   "metadata": {},
   "outputs": [
    {
     "data": {
      "text/plain": [
       "range(1, 11)"
      ]
     },
     "execution_count": 1,
     "metadata": {},
     "output_type": "execute_result"
    }
   ],
   "source": [
    "var = range(1,11)\n",
    "# 나는 결과값을 보고싶은데 범위밖에 안나옴\n",
    "var"
   ]
  },
  {
   "cell_type": "code",
   "execution_count": 2,
   "id": "7eef4172",
   "metadata": {},
   "outputs": [
    {
     "data": {
      "text/plain": [
       "[1, 2, 3, 4, 5, 6, 7, 8, 9, 10]"
      ]
     },
     "execution_count": 2,
     "metadata": {},
     "output_type": "execute_result"
    }
   ],
   "source": [
    "# range의 범위를 list로 바꿔서 출력\n",
    "# python에서 list로 감싸는 게 매우매우 중요\n",
    "\n",
    "list(range(1,11))"
   ]
  },
  {
   "cell_type": "code",
   "execution_count": 3,
   "id": "1c629279",
   "metadata": {},
   "outputs": [
    {
     "data": {
      "text/plain": [
       "[0, 2, 4, 6, 8, 10]"
      ]
     },
     "execution_count": 3,
     "metadata": {},
     "output_type": "execute_result"
    }
   ],
   "source": [
    "# 짝수만 가져오기\n",
    "list(range(0,11,2))"
   ]
  },
  {
   "cell_type": "code",
   "execution_count": 4,
   "id": "e3c25b87",
   "metadata": {},
   "outputs": [
    {
     "data": {
      "text/plain": [
       "[10, 8, 6, 4, 2, 0, -2, -4, -6, -8]"
      ]
     },
     "execution_count": 4,
     "metadata": {},
     "output_type": "execute_result"
    }
   ],
   "source": [
    "list(range(10,-10,-2))"
   ]
  },
  {
   "cell_type": "code",
   "execution_count": 7,
   "id": "f7a7f46d",
   "metadata": {},
   "outputs": [
    {
     "data": {
      "text/plain": [
       "[]"
      ]
     },
     "execution_count": 7,
     "metadata": {},
     "output_type": "execute_result"
    }
   ],
   "source": [
    "# 증가값 말도 안되는 것 주었어도 오류 안 나오고 비어있는 결과값만 출력됨\n",
    "# 그러니까 단계별로 계속 출력해보자\n",
    "list(range(0,10,-2))"
   ]
  },
  {
   "cell_type": "code",
   "execution_count": 8,
   "id": "e0b815d5",
   "metadata": {},
   "outputs": [
    {
     "data": {
      "text/plain": [
       "10"
      ]
     },
     "execution_count": 8,
     "metadata": {},
     "output_type": "execute_result"
    }
   ],
   "source": [
    "# range자체가 배열이기 때문 (하나씩 빼는 건 가능, 여러 개 빼는 건 range로 불가능 - list 사용하기)\n",
    "var[9]"
   ]
  },
  {
   "cell_type": "code",
   "execution_count": 9,
   "id": "32d34500",
   "metadata": {},
   "outputs": [
    {
     "data": {
      "text/plain": [
       "range"
      ]
     },
     "execution_count": 9,
     "metadata": {},
     "output_type": "execute_result"
    }
   ],
   "source": [
    "# list로 바꿔서 선언하기 전까지는 range 타입임\n",
    "type(var)"
   ]
  },
  {
   "cell_type": "markdown",
   "id": "c5a419dc",
   "metadata": {},
   "source": [
    "## for문에 range함수 사용하기"
   ]
  },
  {
   "cell_type": "code",
   "execution_count": 10,
   "id": "7c3b2dd4",
   "metadata": {},
   "outputs": [
    {
     "name": "stdout",
     "output_type": "stream",
     "text": [
      "1\n",
      "2\n",
      "3\n",
      "4\n",
      "5\n",
      "6\n",
      "7\n",
      "8\n",
      "9\n",
      "10\n"
     ]
    }
   ],
   "source": [
    "for i in range(1,11):\n",
    "    print(i)"
   ]
  },
  {
   "cell_type": "code",
   "execution_count": 12,
   "id": "71fc899e",
   "metadata": {},
   "outputs": [
    {
     "name": "stdout",
     "output_type": "stream",
     "text": [
      "0\n",
      "1\n",
      "2\n",
      "3\n",
      "4\n"
     ]
    }
   ],
   "source": [
    "# 하나 있는 경우 0번부터 5번 전까지의 범위라는 의미임\n",
    "for i in range(5):\n",
    "    print(i)"
   ]
  },
  {
   "cell_type": "code",
   "execution_count": 13,
   "id": "83972e65",
   "metadata": {},
   "outputs": [
    {
     "name": "stdout",
     "output_type": "stream",
     "text": [
      "1\n",
      "3\n",
      "5\n",
      "7\n",
      "9\n"
     ]
    }
   ],
   "source": [
    "# 1부터 10까지의 수 중 홀수만 출력하기\n",
    "# 데이터를 홀수만 줘버리고 출력에는 아무것도 안하는 게 좋음! (python 에서는 range 적극 활용하자!)\n",
    "for i in range(1,11,2):\n",
    "    print(i)"
   ]
  },
  {
   "cell_type": "code",
   "execution_count": 18,
   "id": "3ea84314",
   "metadata": {},
   "outputs": [
    {
     "name": "stdout",
     "output_type": "stream",
     "text": [
      "9 X 1 =  9\n",
      "9 X 2 = 18\n",
      "9 X 3 = 27\n",
      "9 X 4 = 36\n",
      "9 X 5 = 45\n",
      "9 X 6 = 54\n",
      "9 X 7 = 63\n",
      "9 X 8 = 72\n",
      "9 X 9 = 81\n"
     ]
    }
   ],
   "source": [
    "# 구구단 9단 출력\n",
    "j = 9\n",
    "for i in range(1,10):\n",
    "    # %(j*i)를 받아와서 '%2d' 에 넣는다\n",
    "    print(j, 'X', i, '=', '%2d'%(j*i))"
   ]
  },
  {
   "cell_type": "code",
   "execution_count": 20,
   "id": "59f88658",
   "metadata": {},
   "outputs": [
    {
     "name": "stdout",
     "output_type": "stream",
     "text": [
      "aaa bbb\n"
     ]
    }
   ],
   "source": [
    "# end는 기본적으로 \\n 이 들어가있음!\n",
    "print('aaa', end = ' ')\n",
    "print('bbb')"
   ]
  },
  {
   "cell_type": "code",
   "execution_count": 33,
   "id": "0f8877a6",
   "metadata": {},
   "outputs": [
    {
     "name": "stdout",
     "output_type": "stream",
     "text": [
      "\n",
      " 2  4  6  8 10 12 14 16 18 \n",
      " 3  6  9 12 15 18 21 24 27 \n",
      " 4  8 12 16 20 24 28 32 36 \n",
      " 5 10 15 20 25 30 35 40 45 \n",
      " 6 12 18 24 30 36 42 48 54 \n",
      " 7 14 21 28 35 42 49 56 63 \n",
      " 8 16 24 32 40 48 56 64 72 \n",
      " 9 18 27 36 45 54 63 72 81 "
     ]
    }
   ],
   "source": [
    "# 구구단 결과만 출력하기\n",
    "for i in range(2,10):\n",
    "    print()\n",
    "    for j in range(1,10):\n",
    "        print('%2d'%(i * j), end = ' ')"
   ]
  },
  {
   "cell_type": "markdown",
   "id": "840b90ea",
   "metadata": {},
   "source": [
    "## for문에 list사용하기"
   ]
  },
  {
   "cell_type": "code",
   "execution_count": 35,
   "id": "5fe0a50a",
   "metadata": {},
   "outputs": [
    {
     "name": "stdout",
     "output_type": "stream",
     "text": [
      "['one', 'two', 'three']\n",
      "one\n",
      "two\n",
      "three\n"
     ]
    }
   ],
   "source": [
    "test_list = ['one', 'two', 'three']\n",
    "print(test_list)\n",
    "\n",
    "for i in test_list:\n",
    "    print(i)"
   ]
  },
  {
   "cell_type": "code",
   "execution_count": 36,
   "id": "40afb19c",
   "metadata": {},
   "outputs": [
    {
     "name": "stdout",
     "output_type": "stream",
     "text": [
      "80.75\n"
     ]
    }
   ],
   "source": [
    "# 평균 구하기\n",
    "scores = [78, 85, 95, 65]\n",
    "\n",
    "total = 0\n",
    "# for 다음 변수명은 단수로 많이 사용\n",
    "for score in scores:\n",
    "    total += score\n",
    "    \n",
    "print(total / len(scores))"
   ]
  },
  {
   "cell_type": "markdown",
   "id": "3bd2f85a",
   "metadata": {},
   "source": [
    "## for문에 Tuple 사용하기"
   ]
  },
  {
   "cell_type": "code",
   "execution_count": 37,
   "id": "a688a381",
   "metadata": {},
   "outputs": [
    {
     "name": "stdout",
     "output_type": "stream",
     "text": [
      "1 : 2\n",
      "3 : 4\n",
      "5 : 6\n"
     ]
    }
   ],
   "source": [
    "var = [(1,2), (3,4), (5,6)]\n",
    "\n",
    "for first, last in var:\n",
    "    print(first, \":\" , last)"
   ]
  },
  {
   "cell_type": "code",
   "execution_count": 38,
   "id": "c7d87583",
   "metadata": {},
   "outputs": [
    {
     "name": "stdout",
     "output_type": "stream",
     "text": [
      "21\n"
     ]
    }
   ],
   "source": [
    "sum1 = 0\n",
    "for first, last in var:\n",
    "    sum1 += first + last\n",
    "    \n",
    "print(sum1)"
   ]
  },
  {
   "cell_type": "markdown",
   "id": "59f898ea",
   "metadata": {},
   "source": [
    "총 5명의 학생이 시험을 보았는데, 시험점수가 60점을 넘으면 합격이고,   \n",
    "그렇지 않으면 불합격이다.   \n",
    "합격, 불합격 결과 보여주기"
   ]
  },
  {
   "cell_type": "code",
   "execution_count": 45,
   "id": "ed5381d4",
   "metadata": {},
   "outputs": [
    {
     "name": "stdout",
     "output_type": "stream",
     "text": [
      "1 의 학생은 합격 입니다.\n",
      "2 의 학생은 불합격 입니다.\n",
      "3 의 학생은 합격 입니다.\n",
      "4 의 학생은 불합격 입니다.\n",
      "5 의 학생은 합격 입니다.\n"
     ]
    }
   ],
   "source": [
    "scores = [90, 25, 67, 45, 80]\n",
    "\n",
    "for number in range(len(scores)):\n",
    "    if scores[number] >= 60:\n",
    "        print(number+1, '의 학생은 합격 입니다.')\n",
    "    else:\n",
    "        print(number+1, '의 학생은 불합격 입니다.')"
   ]
  },
  {
   "cell_type": "code",
   "execution_count": 47,
   "id": "f9c944fa",
   "metadata": {},
   "outputs": [
    {
     "name": "stdout",
     "output_type": "stream",
     "text": [
      "1의 학생은 합격 입니다.\n",
      "2의 학생은 불합격 입니다.\n",
      "3의 학생은 합격 입니다.\n",
      "4의 학생은 불합격 입니다.\n",
      "5의 학생은 합격 입니다.\n"
     ]
    }
   ],
   "source": [
    "scores = [90, 25, 67, 45, 80]\n",
    "\n",
    "for number in range(len(scores)):\n",
    "    if scores[number] >= 60:\n",
    "        print('%d의 학생은 합격 입니다.' %(number+1))\n",
    "    else:\n",
    "        print('%d의 학생은 불합격 입니다.' %(number+1))"
   ]
  },
  {
   "cell_type": "code",
   "execution_count": 53,
   "id": "1f6c15e8",
   "metadata": {},
   "outputs": [
    {
     "name": "stdout",
     "output_type": "stream",
     "text": [
      "1의 학생은 합격 입니다.\n",
      "2의 학생은 불합격 입니다.\n",
      "3의 학생은 합격 입니다.\n",
      "4의 학생은 불합격 입니다.\n",
      "5의 학생은 합격 입니다.\n"
     ]
    }
   ],
   "source": [
    "scores = [90, 25, 67, 45, 80]\n",
    "number = 1\n",
    "for score in scores:\n",
    "#    print(score)\n",
    "    if score >= 60:\n",
    "        print('%d의 학생은 합격 입니다.' %(number))\n",
    "        number += 1\n",
    "    else:\n",
    "        print('%d의 학생은 불합격 입니다.' %(number))\n",
    "        number += 1"
   ]
  },
  {
   "cell_type": "code",
   "execution_count": 74,
   "id": "e4127d0a",
   "metadata": {},
   "outputs": [
    {
     "name": "stdout",
     "output_type": "stream",
     "text": [
      "1의 학생은 90 이므로 합격 입니다.\n",
      "2의 학생은 25 이므로 불합격 입니다.\n",
      "3의 학생은 67 이므로 합격 입니다.\n",
      "4의 학생은 45 이므로 불합격 입니다.\n",
      "5의 학생은 80 이므로 합격 입니다.\n"
     ]
    }
   ],
   "source": [
    "scores = [90, 25, 67, 45, 80]\n",
    "number = 1\n",
    "for score in scores:\n",
    "    if score >= 60:\n",
    "        print('%d의 학생은' %(number), score, '이므로 합격 입니다.')\n",
    "    else:\n",
    "        print('%d의 학생은' %(number), score, '이므로 불합격 입니다.')\n",
    "    \n",
    "    number += 1"
   ]
  },
  {
   "cell_type": "markdown",
   "id": "18880ddb",
   "metadata": {},
   "source": [
    "학생들 점수의 평균을 구하여 평균점수를 기준으로 합격, 불합격 보여주기"
   ]
  },
  {
   "cell_type": "code",
   "execution_count": 68,
   "id": "8edbdc07",
   "metadata": {},
   "outputs": [
    {
     "name": "stdout",
     "output_type": "stream",
     "text": [
      "학급의 평균 점수는 61.4 입니다.\n",
      "\n",
      "1의 학생은 90이므로 합격 입니다.\n",
      "2의 학생은 25이므로 불합격 입니다.\n",
      "3의 학생은 67이므로 합격 입니다.\n",
      "4의 학생은 45이므로 불합격 입니다.\n",
      "5의 학생은 80이므로 합격 입니다.\n"
     ]
    }
   ],
   "source": [
    "scores = [90, 25, 67, 45, 80]\n",
    "# 학생 번호\n",
    "number = 1\n",
    "# 평균 점수\n",
    "avg = 0.0\n",
    "# 학생들의 점수 총점\n",
    "# total = 0\n",
    "# total = np.sum(scores)\n",
    "# print(total)\n",
    "\n",
    "import numpy as np\n",
    "avg = np.mean(scores)\n",
    "\n",
    "print('학급의 평균 점수는', avg, '입니다.')\n",
    "print()\n",
    "for score in scores:\n",
    "    if score >= avg:\n",
    "        print('%d의 학생은 %d이므로 합격 입니다.' %(number, score))\n",
    "        number += 1\n",
    "    else:\n",
    "        print('%d의 학생은 %d이므로 불합격 입니다.' %(number, score))\n",
    "        number += 1"
   ]
  },
  {
   "cell_type": "code",
   "execution_count": 1,
   "id": "c5507e5f",
   "metadata": {},
   "outputs": [
    {
     "name": "stdout",
     "output_type": "stream",
     "text": [
      "[5, 10, 15, 20]\n"
     ]
    }
   ],
   "source": [
    "var01 = [1,2,3,4]\n",
    "# var02는 정제해서 넣을 list (빈 리스트 하나 만들어놓기!)\n",
    "var02 = []\n",
    "\n",
    "for i in var01:\n",
    "    var02.append(i * 5)\n",
    "    \n",
    "print(var02)"
   ]
  },
  {
   "cell_type": "markdown",
   "id": "a70a664e",
   "metadata": {},
   "source": [
    "## 파이썬의 listed for문"
   ]
  },
  {
   "cell_type": "code",
   "execution_count": 2,
   "id": "036d3816",
   "metadata": {},
   "outputs": [
    {
     "data": {
      "text/plain": [
       "[5, 10, 15, 20]"
      ]
     },
     "execution_count": 2,
     "metadata": {},
     "output_type": "execute_result"
    }
   ],
   "source": [
    "var01 = [1,2,3,4]\n",
    "var02 = []\n",
    "\n",
    "# for문이 뒤에, 결과값이 앞에\n",
    "var02 = [i * 5 for i in var01]\n",
    "var02"
   ]
  },
  {
   "cell_type": "code",
   "execution_count": 3,
   "id": "3933869c",
   "metadata": {},
   "outputs": [
    {
     "data": {
      "text/plain": [
       "[5, 10, 15, 20]"
      ]
     },
     "execution_count": 3,
     "metadata": {},
     "output_type": "execute_result"
    }
   ],
   "source": [
    "var01 = [1,2,3,4]\n",
    "var03 = [7]\n",
    "\n",
    "var03 = [i * 5 for i in var01]\n",
    "var03"
   ]
  },
  {
   "cell_type": "code",
   "execution_count": 15,
   "id": "1095c23c",
   "metadata": {},
   "outputs": [
    {
     "data": {
      "text/plain": [
       "[10, 20]"
      ]
     },
     "execution_count": 15,
     "metadata": {},
     "output_type": "execute_result"
    }
   ],
   "source": [
    "# 위의 소스에서 짝수인 경우에만 5를 곱하는 리스트 만들기\n",
    "var01 = [1,2,3,4]\n",
    "var02 = []\n",
    "\n",
    "# for문이 뒤에, 결과값이 앞에, print하는 게 제일 앞에 있으면 됨! (그 뒤에 계속 쭉쭉쭉!!!)\n",
    "var02 = [i * 5 for i in var01 if (i % 2 == 0)]\n",
    "var02"
   ]
  },
  {
   "cell_type": "code",
   "execution_count": 30,
   "id": "1e2eb821",
   "metadata": {},
   "outputs": [
    {
     "name": "stdout",
     "output_type": "stream",
     "text": [
      "[2, 4, 6, 8, 10, 12, 14, 16, 18, 3, 6, 9, 12, 15, 18, 21, 24, 27, 4, 8, 12, 16, 20, 24, 28, 32, 36, 5, 10, 15, 20, 25, 30, 35, 40, 45, 6, 12, 18, 24, 30, 36, 42, 48, 54, 7, 14, 21, 28, 35, 42, 49, 56, 63, 8, 16, 24, 32, 40, 48, 56, 64, 72, 9, 18, 27, 36, 45, 54, 63, 72, 81][2, 4, 6, 8, 10, 12, 14, 16, 18, 3, 6, 9, 12, 15, 18, 21, 24, 27, 4, 8, 12, 16, 20, 24, 28, 32, 36, 5, 10, 15, 20, 25, 30, 35, 40, 45, 6, 12, 18, 24, 30, 36, 42, 48, 54, 7, 14, 21, 28, 35, 42, 49, 56, 63, 8, 16, 24, 32, 40, 48, 56, 64, 72, 9, 18, 27, 36, 45, 54, 63, 72, 81]\n"
     ]
    }
   ],
   "source": [
    "# 구구단 결과만 리스트로 만들기 (2단 ~ 9단)\n",
    "var01 = [i * j for i in range(2,10) for j in range(1,10)]\n",
    "# end는 print하는 곳에 사용해야 함!!!\n",
    "print(var01, end = \"\")\n",
    "print(var01)"
   ]
  },
  {
   "cell_type": "code",
   "execution_count": 35,
   "id": "c9e581b7",
   "metadata": {},
   "outputs": [
    {
     "name": "stdout",
     "output_type": "stream",
     "text": [
      "[90, 67, 80]\n",
      "79.0\n",
      "합격한 학생들의 평균 점수는 79.00입니다\n"
     ]
    }
   ],
   "source": [
    "# 60점 이상의 학생 점수만 List로 만들어 평균 구하기\n",
    "import numpy as np\n",
    "scores = [90, 25, 67, 45, 80]\n",
    "passList = [score for score in scores if score >= 60]\n",
    "print(passList)\n",
    "\n",
    "print(np.mean(passList))\n",
    "print(\"합격한 학생들의 평균 점수는 %.2f입니다\" %np.mean(passList))"
   ]
  },
  {
   "cell_type": "code",
   "execution_count": null,
   "id": "4be706d7",
   "metadata": {},
   "outputs": [],
   "source": []
  }
 ],
 "metadata": {
  "kernelspec": {
   "display_name": "Python 3",
   "language": "python",
   "name": "python3"
  },
  "language_info": {
   "codemirror_mode": {
    "name": "ipython",
    "version": 3
   },
   "file_extension": ".py",
   "mimetype": "text/x-python",
   "name": "python",
   "nbconvert_exporter": "python",
   "pygments_lexer": "ipython3",
   "version": "3.8.8"
  }
 },
 "nbformat": 4,
 "nbformat_minor": 5
}
